{
  "cells": [
    {
      "cell_type": "markdown",
      "source": [
        "\n",
        "\n",
        "### **Introduction:**\n",
        "\n",
        "In this analysis, multiple machine learning models were evaluated to classify data, focusing on accuracy, precision, recall, and F1-score to assess performance. The goal was to identify the best-performing models in terms of both individual accuracy and the ability to handle imbalanced classes effectively. The models ranged from traditional classifiers like Random Forest and Support Vector Machine (SVM), to ensemble methods and advanced techniques such as Approximate Nearest Neighbors (ANN) and XGBoost. Additionally, various ensemble strategies, such as stacking and bagging, were implemented to examine their potential to improve overall performance.\n",
        "\n",
        "The results indicate that while some models performed consistently well across all metrics, others showed strengths in specific areas or struggled with certain class imbalances. Models like **Random Forest (RF)** and **KD Tree** emerged as the top performers, providing robust and balanced accuracy. On the other hand, **SGDClassifier (Mini-Batch)** and **Bagging Classifiers** faced challenges and displayed weaker performance. Ensemble techniques, particularly those combining RF with other classifiers, also showed potential but did not always outperform individual models.\n",
        "\n",
        "In the following sections, the performance metrics for each model are compared in detail, offering insights into their strengths and weaknesses. These findings provide guidance on selecting the most suitable models for similar classification tasks."
      ],
      "metadata": {
        "id": "VbmEcmi9EZtS"
      }
    },
    {
      "cell_type": "markdown",
      "source": [
        "\n",
        "### **Importing data:**"
      ],
      "metadata": {
        "id": "EQCbvkqqEnfV"
      }
    },
    {
      "cell_type": "code",
      "execution_count": null,
      "metadata": {
        "id": "XRKZLEimv8qA"
      },
      "outputs": [],
      "source": [
        "import os\n",
        "# Move the kaggle.json file to the correct directory\n",
        "os.makedirs('/root/.kaggle', exist_ok=True)\n",
        "os.rename('kaggle.json', '/root/.kaggle/kaggle.json')\n",
        "\n",
        "# Set the correct permissions\n",
        "os.chmod('/root/.kaggle/kaggle.json', 600)"
      ]
    },
    {
      "cell_type": "code",
      "execution_count": null,
      "metadata": {
        "colab": {
          "base_uri": "https://localhost:8080/"
        },
        "id": "_50WaP8Wv9q5",
        "outputId": "e67b3ee5-f72f-467c-e9a4-82e341b7a919"
      },
      "outputs": [
        {
          "output_type": "stream",
          "name": "stdout",
          "text": [
            "Dataset URL: https://www.kaggle.com/datasets/msk1097/classification-of-robots-from-their-conversation\n",
            "License(s): CC0-1.0\n",
            "Downloading classification-of-robots-from-their-conversation.zip to /content\n",
            "  0% 0.00/12.2M [00:00<?, ?B/s]\n",
            "100% 12.2M/12.2M [00:00<00:00, 128MB/s]\n"
          ]
        }
      ],
      "source": [
        "!kaggle datasets download -d msk1097/classification-of-robots-from-their-conversation\n"
      ]
    },
    {
      "cell_type": "code",
      "execution_count": null,
      "metadata": {
        "colab": {
          "base_uri": "https://localhost:8080/"
        },
        "id": "moc-MmHqwB9S",
        "outputId": "b15f8330-e50d-4564-971c-d9634b6e0aec"
      },
      "outputs": [
        {
          "output_type": "stream",
          "name": "stdout",
          "text": [
            "Archive:  classification-of-robots-from-their-conversation.zip\n",
            "  inflating: Classification of Robots from their conversation sequence.csv  \n"
          ]
        }
      ],
      "source": [
        "!unzip 'classification-of-robots-from-their-conversation.zip'\n"
      ]
    },
    {
      "cell_type": "code",
      "execution_count": null,
      "metadata": {
        "colab": {
          "base_uri": "https://localhost:8080/"
        },
        "id": "_asQBRlq1OFG",
        "outputId": "7743214e-5a6f-44cd-a23c-f27dc0c74a24"
      },
      "outputs": [
        {
          "name": "stdout",
          "output_type": "stream",
          "text": [
            "'Classification of Robots from their conversation sequence.csv'   sample_data\n",
            " classification-of-robots-from-their-conversation.zip\n"
          ]
        }
      ],
      "source": [
        "!ls\n"
      ]
    },
    {
      "cell_type": "code",
      "execution_count": null,
      "metadata": {
        "colab": {
          "base_uri": "https://localhost:8080/",
          "height": 206
        },
        "id": "bz8PKXVY1ecF",
        "outputId": "27afe6b0-98a2-402f-eaf3-0657eb368c03"
      },
      "outputs": [
        {
          "output_type": "execute_result",
          "data": {
            "text/plain": [
              "   source   num1    num2     num3     num4      num5       num6       num7  \\\n",
              "0       0      2       5        2        5         6          2          1   \n",
              "1       1   1747    1749     1751     1758      1765       1767       1772   \n",
              "2       2  65056  195168  1561344  7806720  31226880  187361280  749445120   \n",
              "3       3   2855    2860     2865     2870      2875       2880       2885   \n",
              "4       4  11440   57200   286000  1430000   7150000   35750000  178750000   \n",
              "\n",
              "         num8        num9        num10  \n",
              "0           8           1            3  \n",
              "1        1774        1783         1785  \n",
              "2  6745006080  6745006080   6745006080  \n",
              "3        2890        2895         2900  \n",
              "4   893750000  4468750000  22343750000  "
            ],
            "text/html": [
              "\n",
              "  <div id=\"df-6288acc1-8490-41ef-bd1a-b1f039638cb8\" class=\"colab-df-container\">\n",
              "    <div>\n",
              "<style scoped>\n",
              "    .dataframe tbody tr th:only-of-type {\n",
              "        vertical-align: middle;\n",
              "    }\n",
              "\n",
              "    .dataframe tbody tr th {\n",
              "        vertical-align: top;\n",
              "    }\n",
              "\n",
              "    .dataframe thead th {\n",
              "        text-align: right;\n",
              "    }\n",
              "</style>\n",
              "<table border=\"1\" class=\"dataframe\">\n",
              "  <thead>\n",
              "    <tr style=\"text-align: right;\">\n",
              "      <th></th>\n",
              "      <th>source</th>\n",
              "      <th>num1</th>\n",
              "      <th>num2</th>\n",
              "      <th>num3</th>\n",
              "      <th>num4</th>\n",
              "      <th>num5</th>\n",
              "      <th>num6</th>\n",
              "      <th>num7</th>\n",
              "      <th>num8</th>\n",
              "      <th>num9</th>\n",
              "      <th>num10</th>\n",
              "    </tr>\n",
              "  </thead>\n",
              "  <tbody>\n",
              "    <tr>\n",
              "      <th>0</th>\n",
              "      <td>0</td>\n",
              "      <td>2</td>\n",
              "      <td>5</td>\n",
              "      <td>2</td>\n",
              "      <td>5</td>\n",
              "      <td>6</td>\n",
              "      <td>2</td>\n",
              "      <td>1</td>\n",
              "      <td>8</td>\n",
              "      <td>1</td>\n",
              "      <td>3</td>\n",
              "    </tr>\n",
              "    <tr>\n",
              "      <th>1</th>\n",
              "      <td>1</td>\n",
              "      <td>1747</td>\n",
              "      <td>1749</td>\n",
              "      <td>1751</td>\n",
              "      <td>1758</td>\n",
              "      <td>1765</td>\n",
              "      <td>1767</td>\n",
              "      <td>1772</td>\n",
              "      <td>1774</td>\n",
              "      <td>1783</td>\n",
              "      <td>1785</td>\n",
              "    </tr>\n",
              "    <tr>\n",
              "      <th>2</th>\n",
              "      <td>2</td>\n",
              "      <td>65056</td>\n",
              "      <td>195168</td>\n",
              "      <td>1561344</td>\n",
              "      <td>7806720</td>\n",
              "      <td>31226880</td>\n",
              "      <td>187361280</td>\n",
              "      <td>749445120</td>\n",
              "      <td>6745006080</td>\n",
              "      <td>6745006080</td>\n",
              "      <td>6745006080</td>\n",
              "    </tr>\n",
              "    <tr>\n",
              "      <th>3</th>\n",
              "      <td>3</td>\n",
              "      <td>2855</td>\n",
              "      <td>2860</td>\n",
              "      <td>2865</td>\n",
              "      <td>2870</td>\n",
              "      <td>2875</td>\n",
              "      <td>2880</td>\n",
              "      <td>2885</td>\n",
              "      <td>2890</td>\n",
              "      <td>2895</td>\n",
              "      <td>2900</td>\n",
              "    </tr>\n",
              "    <tr>\n",
              "      <th>4</th>\n",
              "      <td>4</td>\n",
              "      <td>11440</td>\n",
              "      <td>57200</td>\n",
              "      <td>286000</td>\n",
              "      <td>1430000</td>\n",
              "      <td>7150000</td>\n",
              "      <td>35750000</td>\n",
              "      <td>178750000</td>\n",
              "      <td>893750000</td>\n",
              "      <td>4468750000</td>\n",
              "      <td>22343750000</td>\n",
              "    </tr>\n",
              "  </tbody>\n",
              "</table>\n",
              "</div>\n",
              "    <div class=\"colab-df-buttons\">\n",
              "\n",
              "  <div class=\"colab-df-container\">\n",
              "    <button class=\"colab-df-convert\" onclick=\"convertToInteractive('df-6288acc1-8490-41ef-bd1a-b1f039638cb8')\"\n",
              "            title=\"Convert this dataframe to an interactive table.\"\n",
              "            style=\"display:none;\">\n",
              "\n",
              "  <svg xmlns=\"http://www.w3.org/2000/svg\" height=\"24px\" viewBox=\"0 -960 960 960\">\n",
              "    <path d=\"M120-120v-720h720v720H120Zm60-500h600v-160H180v160Zm220 220h160v-160H400v160Zm0 220h160v-160H400v160ZM180-400h160v-160H180v160Zm440 0h160v-160H620v160ZM180-180h160v-160H180v160Zm440 0h160v-160H620v160Z\"/>\n",
              "  </svg>\n",
              "    </button>\n",
              "\n",
              "  <style>\n",
              "    .colab-df-container {\n",
              "      display:flex;\n",
              "      gap: 12px;\n",
              "    }\n",
              "\n",
              "    .colab-df-convert {\n",
              "      background-color: #E8F0FE;\n",
              "      border: none;\n",
              "      border-radius: 50%;\n",
              "      cursor: pointer;\n",
              "      display: none;\n",
              "      fill: #1967D2;\n",
              "      height: 32px;\n",
              "      padding: 0 0 0 0;\n",
              "      width: 32px;\n",
              "    }\n",
              "\n",
              "    .colab-df-convert:hover {\n",
              "      background-color: #E2EBFA;\n",
              "      box-shadow: 0px 1px 2px rgba(60, 64, 67, 0.3), 0px 1px 3px 1px rgba(60, 64, 67, 0.15);\n",
              "      fill: #174EA6;\n",
              "    }\n",
              "\n",
              "    .colab-df-buttons div {\n",
              "      margin-bottom: 4px;\n",
              "    }\n",
              "\n",
              "    [theme=dark] .colab-df-convert {\n",
              "      background-color: #3B4455;\n",
              "      fill: #D2E3FC;\n",
              "    }\n",
              "\n",
              "    [theme=dark] .colab-df-convert:hover {\n",
              "      background-color: #434B5C;\n",
              "      box-shadow: 0px 1px 3px 1px rgba(0, 0, 0, 0.15);\n",
              "      filter: drop-shadow(0px 1px 2px rgba(0, 0, 0, 0.3));\n",
              "      fill: #FFFFFF;\n",
              "    }\n",
              "  </style>\n",
              "\n",
              "    <script>\n",
              "      const buttonEl =\n",
              "        document.querySelector('#df-6288acc1-8490-41ef-bd1a-b1f039638cb8 button.colab-df-convert');\n",
              "      buttonEl.style.display =\n",
              "        google.colab.kernel.accessAllowed ? 'block' : 'none';\n",
              "\n",
              "      async function convertToInteractive(key) {\n",
              "        const element = document.querySelector('#df-6288acc1-8490-41ef-bd1a-b1f039638cb8');\n",
              "        const dataTable =\n",
              "          await google.colab.kernel.invokeFunction('convertToInteractive',\n",
              "                                                    [key], {});\n",
              "        if (!dataTable) return;\n",
              "\n",
              "        const docLinkHtml = 'Like what you see? Visit the ' +\n",
              "          '<a target=\"_blank\" href=https://colab.research.google.com/notebooks/data_table.ipynb>data table notebook</a>'\n",
              "          + ' to learn more about interactive tables.';\n",
              "        element.innerHTML = '';\n",
              "        dataTable['output_type'] = 'display_data';\n",
              "        await google.colab.output.renderOutput(dataTable, element);\n",
              "        const docLink = document.createElement('div');\n",
              "        docLink.innerHTML = docLinkHtml;\n",
              "        element.appendChild(docLink);\n",
              "      }\n",
              "    </script>\n",
              "  </div>\n",
              "\n",
              "\n",
              "<div id=\"df-8f9b2b1b-4534-40d5-83ff-3737f98eae2f\">\n",
              "  <button class=\"colab-df-quickchart\" onclick=\"quickchart('df-8f9b2b1b-4534-40d5-83ff-3737f98eae2f')\"\n",
              "            title=\"Suggest charts\"\n",
              "            style=\"display:none;\">\n",
              "\n",
              "<svg xmlns=\"http://www.w3.org/2000/svg\" height=\"24px\"viewBox=\"0 0 24 24\"\n",
              "     width=\"24px\">\n",
              "    <g>\n",
              "        <path d=\"M19 3H5c-1.1 0-2 .9-2 2v14c0 1.1.9 2 2 2h14c1.1 0 2-.9 2-2V5c0-1.1-.9-2-2-2zM9 17H7v-7h2v7zm4 0h-2V7h2v10zm4 0h-2v-4h2v4z\"/>\n",
              "    </g>\n",
              "</svg>\n",
              "  </button>\n",
              "\n",
              "<style>\n",
              "  .colab-df-quickchart {\n",
              "      --bg-color: #E8F0FE;\n",
              "      --fill-color: #1967D2;\n",
              "      --hover-bg-color: #E2EBFA;\n",
              "      --hover-fill-color: #174EA6;\n",
              "      --disabled-fill-color: #AAA;\n",
              "      --disabled-bg-color: #DDD;\n",
              "  }\n",
              "\n",
              "  [theme=dark] .colab-df-quickchart {\n",
              "      --bg-color: #3B4455;\n",
              "      --fill-color: #D2E3FC;\n",
              "      --hover-bg-color: #434B5C;\n",
              "      --hover-fill-color: #FFFFFF;\n",
              "      --disabled-bg-color: #3B4455;\n",
              "      --disabled-fill-color: #666;\n",
              "  }\n",
              "\n",
              "  .colab-df-quickchart {\n",
              "    background-color: var(--bg-color);\n",
              "    border: none;\n",
              "    border-radius: 50%;\n",
              "    cursor: pointer;\n",
              "    display: none;\n",
              "    fill: var(--fill-color);\n",
              "    height: 32px;\n",
              "    padding: 0;\n",
              "    width: 32px;\n",
              "  }\n",
              "\n",
              "  .colab-df-quickchart:hover {\n",
              "    background-color: var(--hover-bg-color);\n",
              "    box-shadow: 0 1px 2px rgba(60, 64, 67, 0.3), 0 1px 3px 1px rgba(60, 64, 67, 0.15);\n",
              "    fill: var(--button-hover-fill-color);\n",
              "  }\n",
              "\n",
              "  .colab-df-quickchart-complete:disabled,\n",
              "  .colab-df-quickchart-complete:disabled:hover {\n",
              "    background-color: var(--disabled-bg-color);\n",
              "    fill: var(--disabled-fill-color);\n",
              "    box-shadow: none;\n",
              "  }\n",
              "\n",
              "  .colab-df-spinner {\n",
              "    border: 2px solid var(--fill-color);\n",
              "    border-color: transparent;\n",
              "    border-bottom-color: var(--fill-color);\n",
              "    animation:\n",
              "      spin 1s steps(1) infinite;\n",
              "  }\n",
              "\n",
              "  @keyframes spin {\n",
              "    0% {\n",
              "      border-color: transparent;\n",
              "      border-bottom-color: var(--fill-color);\n",
              "      border-left-color: var(--fill-color);\n",
              "    }\n",
              "    20% {\n",
              "      border-color: transparent;\n",
              "      border-left-color: var(--fill-color);\n",
              "      border-top-color: var(--fill-color);\n",
              "    }\n",
              "    30% {\n",
              "      border-color: transparent;\n",
              "      border-left-color: var(--fill-color);\n",
              "      border-top-color: var(--fill-color);\n",
              "      border-right-color: var(--fill-color);\n",
              "    }\n",
              "    40% {\n",
              "      border-color: transparent;\n",
              "      border-right-color: var(--fill-color);\n",
              "      border-top-color: var(--fill-color);\n",
              "    }\n",
              "    60% {\n",
              "      border-color: transparent;\n",
              "      border-right-color: var(--fill-color);\n",
              "    }\n",
              "    80% {\n",
              "      border-color: transparent;\n",
              "      border-right-color: var(--fill-color);\n",
              "      border-bottom-color: var(--fill-color);\n",
              "    }\n",
              "    90% {\n",
              "      border-color: transparent;\n",
              "      border-bottom-color: var(--fill-color);\n",
              "    }\n",
              "  }\n",
              "</style>\n",
              "\n",
              "  <script>\n",
              "    async function quickchart(key) {\n",
              "      const quickchartButtonEl =\n",
              "        document.querySelector('#' + key + ' button');\n",
              "      quickchartButtonEl.disabled = true;  // To prevent multiple clicks.\n",
              "      quickchartButtonEl.classList.add('colab-df-spinner');\n",
              "      try {\n",
              "        const charts = await google.colab.kernel.invokeFunction(\n",
              "            'suggestCharts', [key], {});\n",
              "      } catch (error) {\n",
              "        console.error('Error during call to suggestCharts:', error);\n",
              "      }\n",
              "      quickchartButtonEl.classList.remove('colab-df-spinner');\n",
              "      quickchartButtonEl.classList.add('colab-df-quickchart-complete');\n",
              "    }\n",
              "    (() => {\n",
              "      let quickchartButtonEl =\n",
              "        document.querySelector('#df-8f9b2b1b-4534-40d5-83ff-3737f98eae2f button');\n",
              "      quickchartButtonEl.style.display =\n",
              "        google.colab.kernel.accessAllowed ? 'block' : 'none';\n",
              "    })();\n",
              "  </script>\n",
              "</div>\n",
              "\n",
              "    </div>\n",
              "  </div>\n"
            ],
            "application/vnd.google.colaboratory.intrinsic+json": {
              "type": "dataframe",
              "variable_name": "df"
            }
          },
          "metadata": {},
          "execution_count": 4
        }
      ],
      "source": [
        "import pandas as pd\n",
        "\n",
        "# Load the CSV file\n",
        "df = pd.read_csv('Classification of Robots from their conversation sequence.csv')\n",
        "\n",
        "# Check the first few rows\n",
        "df.head()"
      ]
    },
    {
      "cell_type": "code",
      "execution_count": null,
      "metadata": {
        "colab": {
          "base_uri": "https://localhost:8080/"
        },
        "id": "ANPeMRXRmOu3",
        "outputId": "0b05bb9b-5cb7-4fc2-987b-d8b713508040"
      },
      "outputs": [
        {
          "name": "stdout",
          "output_type": "stream",
          "text": [
            "   source   num1   num2   num3   num4   num5   num6   num7   num8   num9  \\\n",
            "0   False  False  False  False  False  False  False  False  False  False   \n",
            "1   False  False  False  False  False  False  False  False  False  False   \n",
            "2   False  False  False  False  False  False  False  False  False  False   \n",
            "3   False  False  False  False  False  False  False  False  False  False   \n",
            "4   False  False  False  False  False  False  False  False  False  False   \n",
            "\n",
            "   num10  \n",
            "0  False  \n",
            "1  False  \n",
            "2  False  \n",
            "3  False  \n",
            "4  False  \n",
            "source    0\n",
            "num1      0\n",
            "num2      0\n",
            "num3      0\n",
            "num4      0\n",
            "num5      0\n",
            "num6      0\n",
            "num7      0\n",
            "num8      0\n",
            "num9      0\n",
            "num10     0\n",
            "dtype: int64\n"
          ]
        }
      ],
      "source": [
        "import pandas as pd\n",
        "\n",
        "# Check for missing values\n",
        "missing_values = df.isnull()\n",
        "print(missing_values.head())  # Print the first few rows of missing value indicators\n",
        "missing_count = df.isnull().sum()\n",
        "print(missing_count)"
      ]
    },
    {
      "cell_type": "markdown",
      "source": [
        "### **Feature Engineering:**"
      ],
      "metadata": {
        "id": "F_xvzVvOnV5B"
      }
    },
    {
      "cell_type": "markdown",
      "source": [
        "In this dataset, all features are numerical, eliminating the need for traditional text preprocessing techniques like tokenization or vectorization. Instead, we focus on numerical feature engineering techniques to optimize model performance.\n",
        "\n",
        "### 1️⃣ Handling Missing Values\n",
        "A thorough analysis of the dataset confirmed that **there are no missing values**. This ensures that no additional imputation or data-filling techniques are required, making the dataset clean and ready for model training.\n",
        "\n",
        "### 2️⃣ Feature Scaling\n",
        "The dataset contains values that vary significantly in scale, ranging from small integers to extremely large numbers. To ensure models perform optimally, we apply **Min-Max Scaling**, which transforms the features to a fixed range (typically 0 to 1). This helps:\n",
        "- Prevent models from being biased toward large-scale features.\n",
        "- Improve convergence speed for gradient-based algorithms.\n",
        "- Ensure consistency across different models.\n",
        "\n",
        "### 3️⃣ Handling Outliers\n",
        "Given the large variation in numerical values, potential outliers were examined. If extreme values negatively impacted model performance, techniques such as **clipping or log transformation** could be considered.\n",
        "\n",
        "### 4️⃣ Feature Selection & Correlation Analysis\n",
        "- Features were analyzed for correlation to avoid redundancy.\n",
        "- If necessary, dimensionality reduction techniques (such as PCA) could be explored to improve efficiency without losing significant information.\n",
        "\n",
        "These steps ensure that the dataset is well-prepared for machine learning models while maintaining the integrity of the original numerical information.\n"
      ],
      "metadata": {
        "id": "zsUPi2Yhnk1B"
      }
    },
    {
      "cell_type": "markdown",
      "source": [
        "\n",
        "### **Random Forrest:**"
      ],
      "metadata": {
        "id": "bUr2AnDtE3-8"
      }
    },
    {
      "cell_type": "code",
      "execution_count": null,
      "metadata": {
        "colab": {
          "base_uri": "https://localhost:8080/",
          "height": 1000
        },
        "id": "_tx0ASoEwNZF",
        "outputId": "16024fb9-9edd-4dd7-ab98-64db21a903ea"
      },
      "outputs": [
        {
          "output_type": "display_data",
          "data": {
            "text/plain": [
              "<Figure size 1000x600 with 1 Axes>"
            ],
            "image/png": "[encoded data removed]"
          },
          "metadata": {}
        },
        {
          "output_type": "display_data",
          "data": {
            "text/plain": [
              "<Figure size 1000x600 with 1 Axes>"
            ],
            "image/png": "[encoded data removed]"
          },
          "metadata": {}
        },
        {
          "output_type": "error",
          "ename": "NameError",
          "evalue": "name 'y_pred' is not defined",
          "traceback": [
            "\u001b[0;31m---------------------------------------------------------------------------\u001b[0m",
            "\u001b[0;31mNameError\u001b[0m                                 Traceback (most recent call last)",
            "\u001b[0;32m<ipython-input-1-2c90f4c7d3e9>\u001b[0m in \u001b[0;36m<cell line: 0>\u001b[0;34m()\u001b[0m\n\u001b[1;32m    115\u001b[0m \u001b[0;31m# Visualize Confusion Matrix\u001b[0m\u001b[0;34m\u001b[0m\u001b[0;34m\u001b[0m\u001b[0m\n\u001b[1;32m    116\u001b[0m \u001b[0;31m# After all iterations, calculate final confusion matrix\u001b[0m\u001b[0;34m\u001b[0m\u001b[0;34m\u001b[0m\u001b[0m\n\u001b[0;32m--> 117\u001b[0;31m \u001b[0mcm\u001b[0m \u001b[0;34m=\u001b[0m \u001b[0mconfusion_matrix\u001b[0m\u001b[0;34m(\u001b[0m\u001b[0my_test\u001b[0m\u001b[0;34m,\u001b[0m \u001b[0my_pred\u001b[0m\u001b[0;34m)\u001b[0m\u001b[0;34m\u001b[0m\u001b[0;34m\u001b[0m\u001b[0m\n\u001b[0m\u001b[1;32m    118\u001b[0m \u001b[0;34m\u001b[0m\u001b[0m\n\u001b[1;32m    119\u001b[0m \u001b[0;31m# Ensure the labels correspond to the unique classes in your dataset (0, 1, 2, 3, 4)\u001b[0m\u001b[0;34m\u001b[0m\u001b[0;34m\u001b[0m\u001b[0m\n",
            "\u001b[0;31mNameError\u001b[0m: name 'y_pred' is not defined"
          ]
        }
      ],
      "source": [
        "import numpy as np\n",
        "import pandas as pd\n",
        "from sklearn.model_selection import train_test_split\n",
        "from sklearn.preprocessing import MinMaxScaler\n",
        "from sklearn.ensemble import RandomForestClassifier\n",
        "from sklearn.metrics import accuracy_score, classification_report, confusion_matrix, ConfusionMatrixDisplay\n",
        "import matplotlib.pyplot as plt\n",
        "\n",
        "# Load your dataset\n",
        "df = pd.read_csv('Classification of Robots from their conversation sequence.csv')\n",
        "\n",
        "# Sample a portion of the data, for example, 50% of the entire dataset\n",
        "subset_size = 0.01 # This can be adjusted to select a larger or smaller portion\n",
        "df_subset = df.sample(frac=subset_size, random_state=42)  # Sampling a fraction\n",
        "\n",
        "# Separate features (X) and target (y)\n",
        "X = df_subset.drop(columns=['source'])  # Features (replace 'source' with your actual target column name)\n",
        "y = df_subset['source']  # Target variable\n",
        "\n",
        "# Split the data into training and testing sets\n",
        "X_train, X_test, y_train, y_test = train_test_split(X, y, test_size=0.2, random_state=42)\n",
        "\n",
        "# Initialize the MinMaxScaler\n",
        "scaler = MinMaxScaler()\n",
        "\n",
        "# Fit the scaler on the training data and transform both training and testing data\n",
        "X_train_scaled = scaler.fit_transform(X_train)\n",
        "X_test_scaled = scaler.transform(X_test)\n",
        "\n",
        "# Create a RandomForest model with 100 trees (for example)\n",
        "n_estimators = 100\n",
        "rf_model = RandomForestClassifier(\n",
        "    n_estimators=n_estimators,\n",
        "    max_depth=None,\n",
        "    min_samples_split=2,\n",
        "    min_samples_leaf=1,\n",
        "    class_weight='balanced',\n",
        "    random_state=42\n",
        ")\n",
        "\n",
        "rf_model.fit(X_train_scaled, y_train)\n",
        "\n",
        "y_pred = rf_model.predict(X_test_scaled)\n",
        "accuracy = accuracy_score(y_test, y_pred)\n",
        "\n",
        "# Get feature importances\n",
        "importances = rf_model.feature_importances_\n",
        "\n",
        "# Get indices of the two most important features\n",
        "top_two_features_indices = np.argsort(importances)[-2:]  # Get the indices of the top 2 features\n",
        "\n",
        "# Select those two features\n",
        "X_train_selected = X_train_scaled[:, top_two_features_indices]\n",
        "X_test_selected = X_test_scaled[:, top_two_features_indices]\n",
        "\n",
        "\n",
        "# Visualize Confusion Matrix\n",
        "# After all iterations, calculate final confusion matrix\n",
        "cm = confusion_matrix(y_test, y_pred)\n",
        "\n",
        "# Ensure the labels correspond to the unique classes in your dataset (0, 1, 2, 3, 4)\n",
        "cm_display = ConfusionMatrixDisplay(confusion_matrix=cm, display_labels=[0, 1, 2, 3, 4])\n",
        "\n",
        "# Plot the confusion matrix and explicitly call plt.show() to display it\n",
        "cm_display.plot(cmap='Blues')\n",
        "plt.show()  # This will display the confusion matrix plot\n",
        "\n",
        "# Clasification report\n",
        "from sklearn.metrics import classification_report, confusion_matrix\n",
        "print(\"Random Forest Classification Report:\\n\", classification_report(y_test, y_pred))\n"
      ]
    },
    {
      "cell_type": "markdown",
      "source": [
        "####Observations:(full data trained)\n",
        "Class 0 (19955): Perfectly predicted. No misclassifications here.\n",
        "\n",
        "Class 1 (11125): This class was misclassified a lot as class 3 (8818 misclassifications). While there were no misclassifications as class 2 or class 4, the model is clearly struggling to differentiate class 1 from class 3.\n",
        "\n",
        "Class 2 (19132): The model performed very well here, but it did misclassify 1066 times as class 4 and once as class 1.\n",
        "\n",
        "Class 3 (11145): Class 3 was well predicted overall, but it got misclassified as class 1 (8671 times).\n",
        "\n",
        "Class 4 (20087): This class was perfectly predicted with no misclassifications."
      ],
      "metadata": {
        "id": "esx6qhnlgoET"
      }
    },
    {
      "cell_type": "markdown",
      "source": [
        "####Hyperparameter Tuning\n",
        "tuning hyperparameter such as max_depth of the trees (might help with overfitting)."
      ],
      "metadata": {
        "id": "AVrQT8hzgsnQ"
      }
    },
    {
      "cell_type": "code",
      "source": [
        "import pandas as pd\n",
        "from sklearn.model_selection import train_test_split, GridSearchCV\n",
        "from sklearn.preprocessing import MinMaxScaler\n",
        "from sklearn.ensemble import RandomForestClassifier\n",
        "from sklearn.metrics import accuracy_score, classification_report\n",
        "from sklearn.metrics import confusion_matrix, ConfusionMatrixDisplay\n",
        "import matplotlib.pyplot as plt\n",
        "\n",
        "# Load your dataset\n",
        "df = pd.read_csv('Classification of Robots from their conversation sequence.csv')\n",
        "\n",
        "# Sample a portion of the data, for example, 50% of the entire dataset\n",
        "subset_size = 0.2  # This can be adjusted to select a larger or smaller portion\n",
        "df_subset = df.sample(frac=subset_size, random_state=42)  # Sampling a fraction\n",
        "\n",
        "# Separate features (X) and target (y)\n",
        "X = df_subset.drop(columns=['source'])  # Features (replace 'source' with your actual target column name)\n",
        "y = df_subset['source']  # Target variable\n",
        "\n",
        "# Split the data into training and testing sets\n",
        "X_train, X_test, y_train, y_test = train_test_split(X, y, test_size=0.2, random_state=42)\n",
        "\n",
        "# Initialize the MinMaxScaler\n",
        "scaler = MinMaxScaler()\n",
        "\n",
        "# Fit the scaler on the training data and transform both training and testing data\n",
        "X_train_scaled = scaler.fit_transform(X_train)\n",
        "X_test_scaled = scaler.transform(X_test)\n",
        "\n",
        "# Create a RandomForestClassifier\n",
        "rf_model = RandomForestClassifier(n_estimators=100, random_state=42)\n",
        "\n",
        "# Define the parameter grid for max_depth\n",
        "param_grid = {\n",
        "    'max_depth': [5, 10, 15, 20, 25, None]  # Test different depths for the trees\n",
        "}\n",
        "\n",
        "# Use GridSearchCV to search for the best max_depth\n",
        "grid_search = GridSearchCV(estimator=rf_model, param_grid=param_grid, cv=5, n_jobs=-1, scoring='accuracy')\n",
        "\n",
        "# Fit the grid search to the data\n",
        "grid_search.fit(X_train_scaled, y_train)\n",
        "\n",
        "# Print the best parameters found\n",
        "print(\"Best max_depth:\", grid_search.best_params_)\n",
        "\n",
        "# Use the best model from GridSearchCV\n",
        "best_rf_model = grid_search.best_estimator_\n",
        "\n",
        "# Predict and evaluate the model\n",
        "y_pred = best_rf_model.predict(X_test_scaled)\n",
        "\n",
        "# Print classification report\n",
        "print(\"Classification Report:\")\n",
        "print(classification_report(y_test, y_pred))\n",
        "\n",
        "# Confusion matrix\n",
        "cm = confusion_matrix(y_test, y_pred)\n",
        "\n",
        "# Display the confusion matrix\n",
        "cm_display = ConfusionMatrixDisplay(confusion_matrix=cm, display_labels=[0, 1, 2, 3, 4])\n",
        "cm_display.plot(cmap='Blues')\n",
        "plt.show()\n",
        "\n",
        "# Display accuracy\n",
        "accuracy = accuracy_score(y_test, y_pred)\n",
        "print(f\"Accuracy: {accuracy:.2f}\")\n",
        "\n"
      ],
      "metadata": {
        "colab": {
          "base_uri": "https://localhost:8080/",
          "height": 710
        },
        "id": "ELABOt4eYpJM",
        "outputId": "cea1d2ae-72cc-46bc-c637-2f43369f7985"
      },
      "execution_count": null,
      "outputs": [
        {
          "output_type": "stream",
          "name": "stdout",
          "text": [
            "Best max_depth: {'max_depth': None}\n",
            "Classification Report:\n",
            "              precision    recall  f1-score   support\n",
            "\n",
            "           0       1.00      1.00      1.00      3930\n",
            "           1       0.87      0.59      0.70      4034\n",
            "           2       1.00      1.00      1.00      3966\n",
            "           3       0.69      0.91      0.78      4014\n",
            "           4       1.00      1.00      1.00      4056\n",
            "\n",
            "    accuracy                           0.90     20000\n",
            "   macro avg       0.91      0.90      0.90     20000\n",
            "weighted avg       0.91      0.90      0.90     20000\n",
            "\n"
          ]
        },
        {
          "output_type": "display_data",
          "data": {
            "text/plain": [
              "<Figure size 640x480 with 2 Axes>"
            ],
            "image/png": "[encoded data removed]"
          },
          "metadata": {}
        },
        {
          "output_type": "stream",
          "name": "stdout",
          "text": [
            "Accuracy: 0.90\n"
          ]
        }
      ]
    },
    {
      "cell_type": "markdown",
      "source": [
        "####Classification Report: (with 20 percent of whole data)\n",
        "Class 0 (Robot Type 0): Perfect classification (1.00 precision and recall).\n",
        "\n",
        "Class 1 (Robot Type 1): There's a significant misclassification issue here, as the recall is only 0.59, indicating that only about 59% of the class 1 samples were correctly identified.\n",
        "\n",
        "Class 2 (Robot Type 2): Perfect classification (1.00 precision and recall).\n",
        "\n",
        "Class 3 (Robot Type 3): Fairly good classification with 0.91 recall, but still room for improvement.\n",
        "\n",
        "Class 4 (Robot Type 4): Perfect classification (1.00 precision and recall).\n",
        "####Model Evaluation Insights:\n",
        "Precision is high overall, but recall for Class 1 is the primary issue.\n",
        "The F1-score for Class 1 is 0.70, which is an average between precision and recall. This suggests a balance between false positives and false negatives for that class.\n",
        "\n",
        "Accuracy of 90% suggests that the model performs well in general, but there is still room to improve the recall for Class 1 (as it misclassifies many instances as other classes)."
      ],
      "metadata": {
        "id": "p2UWBCRqgVYZ"
      }
    },
    {
      "cell_type": "markdown",
      "source": [
        "### **Voting Classifier (RF + GaussianNB):**"
      ],
      "metadata": {
        "id": "lW6Mmgmnm58m"
      }
    },
    {
      "cell_type": "code",
      "source": [
        "import pandas as pd\n",
        "import numpy as np\n",
        "import matplotlib.pyplot as plt\n",
        "from sklearn.model_selection import train_test_split\n",
        "from sklearn.preprocessing import MinMaxScaler\n",
        "from sklearn.ensemble import RandomForestClassifier, VotingClassifier\n",
        "from sklearn.naive_bayes import GaussianNB\n",
        "from sklearn.metrics import confusion_matrix, ConfusionMatrixDisplay, accuracy_score, classification_report\n",
        "\n",
        "# Load your dataset\n",
        "df = pd.read_csv('Classification of Robots from their conversation sequence.csv')\n",
        "\n",
        "# Sample a portion of the data (e.g., 20%)\n",
        "subset_size = 0.5  # Change this proportion to select more or less data\n",
        "df_subset = df.sample(frac=subset_size, random_state=42)  # Sampling a fraction\n",
        "\n",
        "# Separate features (X) and target (y)\n",
        "X = df_subset.drop(columns=['source'])  # Replace 'source' with the actual target column name\n",
        "y = df_subset['source']  # Target variable\n",
        "\n",
        "# Split the data into training and testing sets (80% training, 20% testing)\n",
        "X_train, X_test, y_train, y_test = train_test_split(X, y, test_size=0.2, random_state=42)\n",
        "\n",
        "# Normalize the features using MinMaxScaler\n",
        "scaler = MinMaxScaler()\n",
        "X_train_scaled = scaler.fit_transform(X_train)\n",
        "X_test_scaled = scaler.transform(X_test)\n",
        "\n",
        "# Initialize the individual models\n",
        "rf_model = RandomForestClassifier(n_estimators=50, max_depth=10, n_jobs=-1, random_state=42)\n",
        "nb_model = GaussianNB()\n",
        "\n",
        "# Create the Voting Classifier (ensemble model)\n",
        "voting_model = VotingClassifier(estimators=[('rf', rf_model), ('nb', nb_model)], voting='hard')\n",
        "\n",
        "# Train the Voting Classifier\n",
        "voting_model.fit(X_train_scaled, y_train)\n",
        "\n",
        "# Get predictions from the Voting Classifier\n",
        "y_pred = voting_model.predict(X_test_scaled)\n",
        "\n",
        "# Calculate accuracy\n",
        "accuracy = accuracy_score(y_test, y_pred)\n",
        "print(f'Accuracy: {accuracy:.4f}')\n",
        "\n",
        "# Display the classification report\n",
        "print('Classification Report:')\n",
        "print(classification_report(y_test, y_pred))\n",
        "\n",
        "# Generate and display the confusion matrix\n",
        "cm = confusion_matrix(y_test, y_pred)\n",
        "cm_display = ConfusionMatrixDisplay(confusion_matrix=cm, display_labels=np.unique(y))\n",
        "cm_display.plot(cmap='Blues')\n",
        "plt.show()\n",
        "\n",
        "# Additional: Visualizing the top 2 most important features of the Random Forest model\n",
        "# RandomForest model importance\n",
        "rf_model.fit(X_train_scaled, y_train)\n",
        "importances = rf_model.feature_importances_\n",
        "top_two_features_indices = np.argsort(importances)[-2:]\n",
        "\n",
        "# Plot the decision boundaries based on the top 2 important features\n",
        "plt.figure(figsize=(10, 6))\n",
        "\n",
        "# Choose the two most important features for visualization\n",
        "X_train_2features = X_train_scaled[:, top_two_features_indices]\n",
        "X_test_2features = X_test_scaled[:, top_two_features_indices]\n",
        "\n",
        "# Fit the Voting Classifier on the two selected features\n",
        "voting_model.fit(X_train_2features, y_train)\n",
        "\n",
        "# Create a meshgrid for plotting decision boundaries\n",
        "h = .02  # Step size in the mesh\n",
        "x_min, x_max = X_train_2features[:, 0].min() - 1, X_train_2features[:, 0].max() + 1\n",
        "y_min, y_max = X_train_2features[:, 1].min() - 1, X_train_2features[:, 1].max() + 1\n",
        "xx, yy = np.meshgrid(np.arange(x_min, x_max, h), np.arange(y_min, y_max, h))\n",
        "\n",
        "# Get predictions for each point in the mesh grid\n",
        "Z = voting_model.predict(np.c_[xx.ravel(), yy.ravel()])\n",
        "Z = Z.reshape(xx.shape)\n",
        "\n",
        "# Plot decision boundary\n",
        "plt.contourf(xx, yy, Z, alpha=0.8)\n",
        "\n",
        "# Scatter plot for the training data points\n",
        "scatter = plt.scatter(X_train_2features[:, 0], X_train_2features[:, 1], c=y_train, edgecolors='k', marker='o', cmap=plt.cm.coolwarm)\n",
        "plt.title('Decision Boundaries for the 2 Most Important Features')\n",
        "plt.xlabel(f'Feature {top_two_features_indices[0]}')\n",
        "plt.ylabel(f'Feature {top_two_features_indices[1]}')\n",
        "plt.colorbar(scatter)\n",
        "plt.show()\n"
      ],
      "metadata": {
        "colab": {
          "base_uri": "https://localhost:8080/",
          "height": 1000
        },
        "id": "-kBnA7rKhzpH",
        "outputId": "ebd6f92c-666d-406e-f7da-41a56c622272"
      },
      "execution_count": null,
      "outputs": [
        {
          "output_type": "stream",
          "name": "stdout",
          "text": [
            "Accuracy: 0.7845\n",
            "Classification Report:\n",
            "              precision    recall  f1-score   support\n",
            "\n",
            "           0       1.00      1.00      1.00     10014\n",
            "           1       0.53      0.41      0.46     10084\n",
            "           2       0.97      0.92      0.94     10048\n",
            "           3       0.52      0.63      0.57      9987\n",
            "           4       0.92      0.97      0.95      9867\n",
            "\n",
            "    accuracy                           0.78     50000\n",
            "   macro avg       0.79      0.79      0.78     50000\n",
            "weighted avg       0.79      0.78      0.78     50000\n",
            "\n"
          ]
        },
        {
          "output_type": "display_data",
          "data": {
            "text/plain": [
              "<Figure size 640x480 with 2 Axes>"
            ],
            "image/png": "[encoded data removed]"
          },
          "metadata": {}
        },
        {
          "output_type": "display_data",
          "data": {
            "text/plain": [
              "<Figure size 1000x600 with 2 Axes>"
            ],
            "image/png": "[encoded data removed]"
          },
          "metadata": {}
        }
      ]
    },
    {
      "cell_type": "markdown",
      "source": [
        "In the Voting Classifier result,  used RandomForestClassifier and GaussianNB combined with the following metrics:\n",
        "\n",
        "Accuracy: 90.00%\n",
        "\n",
        "Classification Report:\n",
        "\n",
        "Class 0: Precision = 1.00, Recall = 1.00, F1-Score = 1.00\n",
        "\n",
        "Class 1: Precision = 0.87, Recall = 0.59, F1-Score = 0.70\n",
        "\n",
        "Class 2: Precision = 1.00, Recall = 1.00, F1-Score = 1.00\n",
        "\n",
        "\n",
        "Class 3: Precision = 0.69, Recall = 0.91, F1-Score = 0.78\n",
        "\n",
        "Class 4: Precision = 1.00, Recall = 1.00, F1-Score = 1.00"
      ],
      "metadata": {
        "id": "SqoVZ4uMnAF3"
      }
    },
    {
      "cell_type": "markdown",
      "source": [
        "### **SVM RBF and Random Forest in an ensemble:**"
      ],
      "metadata": {
        "id": "poxvGlWzoFLk"
      }
    },
    {
      "cell_type": "code",
      "source": [
        "import pandas as pd\n",
        "from sklearn.model_selection import train_test_split\n",
        "from sklearn.preprocessing import MinMaxScaler\n",
        "from sklearn.ensemble import RandomForestClassifier, VotingClassifier\n",
        "from sklearn.svm import SVC\n",
        "from sklearn.metrics import accuracy_score, classification_report\n",
        "from sklearn.metrics import confusion_matrix, ConfusionMatrixDisplay\n",
        "import matplotlib.pyplot as plt\n",
        "\n",
        "# Load your dataset\n",
        "df = pd.read_csv('Classification of Robots from their conversation sequence.csv')\n",
        "\n",
        "# Sample a portion of the data, for example, 50% of the entire dataset\n",
        "subset_size = 0.5  # Adjust this as needed\n",
        "df_subset = df.sample(frac=subset_size, random_state=42)\n",
        "\n",
        "# Separate features (X) and target (y)\n",
        "X = df_subset.drop(columns=['source'])  # Features (replace 'source' with your actual target column)\n",
        "y = df_subset['source']  # Target variable\n",
        "\n",
        "# Split the data into training and testing sets\n",
        "X_train, X_test, y_train, y_test = train_test_split(X, y, test_size=0.2, random_state=42)\n",
        "\n",
        "# Initialize the MinMaxScaler\n",
        "scaler = MinMaxScaler()\n",
        "\n",
        "# Fit the scaler on the training data and transform both training and testing data\n",
        "X_train_scaled = scaler.fit_transform(X_train)\n",
        "X_test_scaled = scaler.transform(X_test)\n",
        "\n",
        "# Create RandomForest and SVM (RBF kernel) models\n",
        "rf_model = RandomForestClassifier(n_estimators=100, max_depth=15, random_state=42)\n",
        "svm_model = SVC(kernel='rbf', C=1, gamma='scale', random_state=42)\n",
        "\n",
        "# Create a Voting Classifier with both models (Random Forest + SVM RBF)\n",
        "ensemble_model = VotingClassifier(estimators=[('rf', rf_model), ('svm', svm_model)], voting='hard')\n",
        "\n",
        "# Train the ensemble model\n",
        "ensemble_model.fit(X_train_scaled, y_train)\n",
        "\n",
        "# Make predictions and evaluate the model\n",
        "y_pred = ensemble_model.predict(X_test_scaled)\n",
        "\n",
        "# Evaluate the accuracy\n",
        "accuracy = accuracy_score(y_test, y_pred)\n",
        "print(f'Accuracy: {accuracy * 100:.2f}%')\n",
        "\n",
        "# Print the classification report\n",
        "print('Classification Report:')\n",
        "print(classification_report(y_test, y_pred))\n",
        "\n",
        "# Confusion Matrix\n",
        "cm = confusion_matrix(y_test, y_pred)\n",
        "cm_display = ConfusionMatrixDisplay(confusion_matrix=cm, display_labels=[0, 1, 2, 3, 4])\n",
        "cm_display.plot(cmap='Blues')\n",
        "plt.show()\n",
        "\n"
      ],
      "metadata": {
        "colab": {
          "base_uri": "https://localhost:8080/",
          "height": 697
        },
        "id": "aMCzEncrm8R-",
        "outputId": "6d500624-d498-4bfe-8e2b-be5a6e956bda"
      },
      "execution_count": null,
      "outputs": [
        {
          "output_type": "stream",
          "name": "stdout",
          "text": [
            "Accuracy: 81.07%\n",
            "Classification Report:\n",
            "              precision    recall  f1-score   support\n",
            "\n",
            "           0       0.92      1.00      0.96     10014\n",
            "           1       0.71      0.35      0.47     10084\n",
            "           2       0.92      0.98      0.95     10048\n",
            "           3       0.57      0.82      0.67      9987\n",
            "           4       0.99      0.90      0.94      9867\n",
            "\n",
            "    accuracy                           0.81     50000\n",
            "   macro avg       0.82      0.81      0.80     50000\n",
            "weighted avg       0.82      0.81      0.80     50000\n",
            "\n"
          ]
        },
        {
          "output_type": "display_data",
          "data": {
            "text/plain": [
              "<Figure size 640x480 with 2 Axes>"
            ],
            "image/png": "[encoded data removed]"
          },
          "metadata": {}
        }
      ]
    },
    {
      "cell_type": "markdown",
      "source": [
        "####Accuracy:\n",
        "81.07% is the overall accuracy, which is a solid starting point. This means that your ensemble model correctly predicted 81.07% of the test set.\n",
        "\n",
        "####Classification Report Breakdown:\n",
        "Class 0: High precision (0.92) and perfect recall (1.00) – The model is very good at identifying class 0 correctly.\n",
        "\n",
        "Class 1: Precision is 0.71 and recall is 0.35 – There’s a significant imbalance or difficulty in classifying this class. Recall is low, meaning many instances of class 1 are misclassified into other classes.\n",
        "\n",
        "Class 2: Very good performance with precision (0.92) and recall (0.98), indicating the model correctly identifies class 2 most of the time.\n",
        "\n",
        "Class 3: Precision is 0.57 and recall is 0.82 – The model identifies class 3 somewhat better, but it misclassifies a significant portion.\n",
        "\n",
        "Class 4: Excellent precision (0.99) and recall (0.90), showing that the model is quite good at classifying class 4."
      ],
      "metadata": {
        "id": "Macwwdfi0lop"
      }
    },
    {
      "cell_type": "code",
      "source": [],
      "metadata": {
        "id": "YKSd2HjMloTs"
      },
      "execution_count": null,
      "outputs": []
    },
    {
      "cell_type": "markdown",
      "source": [
        "### **Stacking with Logistic Regression and Random Forest:**"
      ],
      "metadata": {
        "id": "BB9EAnvR0_op"
      }
    },
    {
      "cell_type": "code",
      "execution_count": null,
      "metadata": {
        "colab": {
          "base_uri": "https://localhost:8080/",
          "height": 697
        },
        "id": "2mkZDOVt2fL5",
        "outputId": "4975cd6a-6ffd-4862-b558-fa66529ffb78"
      },
      "outputs": [
        {
          "output_type": "stream",
          "name": "stdout",
          "text": [
            "Accuracy of Stacking Model: 0.8390\n",
            "Classification Report:\n",
            "              precision    recall  f1-score   support\n",
            "\n",
            "           0       1.00      1.00      1.00     10014\n",
            "           1       0.59      0.70      0.64     10084\n",
            "           2       1.00      1.00      1.00     10048\n",
            "           3       0.62      0.51      0.56      9987\n",
            "           4       1.00      1.00      1.00      9867\n",
            "\n",
            "    accuracy                           0.84     50000\n",
            "   macro avg       0.84      0.84      0.84     50000\n",
            "weighted avg       0.84      0.84      0.84     50000\n",
            "\n"
          ]
        },
        {
          "output_type": "display_data",
          "data": {
            "text/plain": [
              "<Figure size 640x480 with 2 Axes>"
            ],
            "image/png": "[encoded data removed]"
          },
          "metadata": {}
        }
      ],
      "source": [
        "import pandas as pd\n",
        "from sklearn.model_selection import train_test_split\n",
        "from sklearn.preprocessing import MinMaxScaler\n",
        "from sklearn.ensemble import RandomForestClassifier, StackingClassifier\n",
        "from sklearn.linear_model import LogisticRegression\n",
        "from sklearn.metrics import accuracy_score, classification_report\n",
        "from sklearn.model_selection import StratifiedKFold\n",
        "\n",
        "# Load your dataset\n",
        "df = pd.read_csv('Classification of Robots from their conversation sequence.csv')\n",
        "\n",
        "# Sample a portion of the data (e.g., 50% of the data)\n",
        "subset_size = 0.5\n",
        "df_subset = df.sample(frac=subset_size, random_state=42)  # Sample 50%\n",
        "\n",
        "# Separate features (X) and target (y)\n",
        "X = df_subset.drop(columns=['source'])  # Features (replace 'target' with your actual target column name)\n",
        "y = df_subset['source']  # Target variable\n",
        "\n",
        "# Split the data into training and testing sets\n",
        "X_train, X_test, y_train, y_test = train_test_split(X, y, test_size=0.2, random_state=42)\n",
        "\n",
        "# Initialize the MinMaxScaler\n",
        "scaler = MinMaxScaler()\n",
        "\n",
        "# Fit the scaler on the training data and transform both training and testing data\n",
        "X_train_scaled = scaler.fit_transform(X_train)\n",
        "X_test_scaled = scaler.transform(X_test)\n",
        "\n",
        "# Initialize base models (Random Forest and Logistic Regression)\n",
        "rf = RandomForestClassifier(n_estimators=100, max_depth=15, random_state=42)\n",
        "lr = LogisticRegression(max_iter=1000, random_state=42)\n",
        "\n",
        "# Initialize the meta-classifier (Logistic Regression)\n",
        "meta_classifier = LogisticRegression(max_iter=1000, random_state=42)\n",
        "\n",
        "# Create the stacking classifier\n",
        "stacking_clf = StackingClassifier(\n",
        "    estimators=[('rf', rf), ('lr', lr)],  # List of base classifiers\n",
        "    final_estimator=meta_classifier,  # Meta-classifier (Logistic Regression)\n",
        "    cv=StratifiedKFold(n_splits=5)  # 5-fold cross-validation\n",
        ")\n",
        "\n",
        "# Train the stacking classifier\n",
        "stacking_clf.fit(X_train_scaled, y_train)\n",
        "\n",
        "# Predict using the stacking model\n",
        "y_pred = stacking_clf.predict(X_test_scaled)\n",
        "\n",
        "# Evaluate the performance of the stacking model\n",
        "accuracy = accuracy_score(y_test, y_pred)\n",
        "print(f\"Accuracy of Stacking Model: {accuracy:.4f}\")\n",
        "\n",
        "# Classification Report\n",
        "print(\"Classification Report:\")\n",
        "print(classification_report(y_test, y_pred))\n",
        "\n",
        "# Confusion Matrix\n",
        "cm = confusion_matrix(y_test, y_pred)\n",
        "cm_display = ConfusionMatrixDisplay(confusion_matrix=cm, display_labels=[0, 1, 2, 3, 4])\n",
        "cm_display.plot(cmap='Blues')\n",
        "plt.show()\n",
        "\n",
        "\n"
      ]
    },
    {
      "cell_type": "markdown",
      "source": [
        "It seems that the Stacking Model (with Random Forest and Logistic Regression as base classifiers) performed with an accuracy of 83.90%, which is quite good! However, there are some areas where the model could still be improved.\n",
        "\n",
        "#### Interpretation of Results:\n",
        "Class 0: The precision, recall, and F1-score are perfect (1.00), meaning the model is identifying all instances of class 0 correctly.\n",
        "\n",
        "Class 1: The recall is 0.70, meaning that 70% of the true class 1 instances are correctly identified, but the precision is much lower (0.59). This means that a lot of the predictions for class 1 are incorrect.\n",
        "\n",
        "Class 2: Again, a perfect result for class 2, similar to class 0.\n",
        "\n",
        "Class 3: This class has a lower recall (0.51), meaning that it’s missing more of the true instances, though it has relatively low precision (0.62).\n",
        "\n",
        "Class 4: Perfect performance for class 4, similar to class 0 and class 2."
      ],
      "metadata": {
        "id": "xg6Zzacp4Vqe"
      }
    },
    {
      "cell_type": "code",
      "source": [
        "import pandas as pd\n",
        "from sklearn.model_selection import train_test_split\n",
        "from sklearn.preprocessing import MinMaxScaler\n",
        "from sklearn.ensemble import RandomForestClassifier, StackingClassifier\n",
        "from sklearn.svm import SVC\n",
        "from sklearn.linear_model import LogisticRegression\n",
        "from sklearn.metrics import accuracy_score, classification_report\n",
        "from sklearn.metrics import confusion_matrix, ConfusionMatrixDisplay\n",
        "import numpy as np\n",
        "import matplotlib.pyplot as plt\n",
        "\n",
        "# Load your dataset\n",
        "df = pd.read_csv('Classification of Robots from their conversation sequence.csv')\n",
        "\n",
        "# Sample a portion of the data, for example, 50% of the entire dataset\n",
        "subset_size = 0.5  # This can be adjusted to select a larger or smaller portion\n",
        "df_subset = df.sample(frac=subset_size, random_state=42)  # Sampling a fraction\n",
        "\n",
        "# Separate features (X) and target (y)\n",
        "X = df_subset.drop(columns=['source'])  # Features (replace 'target' with your actual target column name)\n",
        "y = df_subset['source']  # Target variable\n",
        "\n",
        "# Split the data into training and testing sets\n",
        "X_train, X_test, y_train, y_test = train_test_split(X, y, test_size=0.2, random_state=42)\n",
        "\n",
        "# Initialize the MinMaxScaler\n",
        "scaler = MinMaxScaler()\n",
        "\n",
        "# Fit the scaler on the training data and transform both training and testing data\n",
        "X_train_scaled = scaler.fit_transform(X_train)\n",
        "X_test_scaled = scaler.transform(X_test)\n",
        "\n",
        "# Manually define class weights for the models\n",
        "custom_class_weights = {0: 1, 1: 0.5, 2: 1, 3: 2, 4: 1}\n",
        "\n",
        "# Initialize base models (Random Forest, Logistic Regression, and SVM RBF)\n",
        "rf_model = RandomForestClassifier(n_estimators=100, max_depth=10, class_weight=custom_class_weights, random_state=42)\n",
        "svm_model = SVC(kernel='rbf', class_weight=custom_class_weights, random_state=42)\n",
        "logreg_model = LogisticRegression(class_weight=custom_class_weights, random_state=42)\n",
        "\n",
        "# Create a Stacking Classifier with Random Forest, SVM RBF, and Logistic Regression as base models\n",
        "base_learners = [\n",
        "    ('rf', rf_model),\n",
        "    ('svm', svm_model),\n",
        "    ('logreg', logreg_model)\n",
        "]\n",
        "\n",
        "# Meta-classifier is Logistic Regression\n",
        "stacking_model = StackingClassifier(estimators=base_learners, final_estimator=LogisticRegression())\n",
        "\n",
        "# Train the stacking model\n",
        "stacking_model.fit(X_train_scaled, y_train)\n",
        "\n",
        "# Get predictions\n",
        "y_pred = stacking_model.predict(X_test_scaled)\n",
        "\n",
        "# Calculate accuracy\n",
        "accuracy = accuracy_score(y_test, y_pred)\n",
        "print(f\"Accuracy of Stacking Model: {accuracy:.4f}\")\n",
        "\n",
        "# Classification report\n",
        "print(\"\\nClassification Report:\")\n",
        "print(classification_report(y_test, y_pred))\n",
        "\n",
        "# Confusion Matrix\n",
        "cm = confusion_matrix(y_test, y_pred)\n",
        "cm_display = ConfusionMatrixDisplay(confusion_matrix=cm, display_labels=np.unique(y))\n",
        "cm_display.plot(cmap='Blues')\n",
        "plt.show()\n"
      ],
      "metadata": {
        "colab": {
          "base_uri": "https://localhost:8080/",
          "height": 1000
        },
        "id": "cqWBxjGe5Bn6",
        "outputId": "616111c2-3553-4cff-9b32-2f161c3be324"
      },
      "execution_count": null,
      "outputs": [
        {
          "output_type": "stream",
          "name": "stderr",
          "text": [
            "/usr/local/lib/python3.11/dist-packages/sklearn/linear_model/_logistic.py:465: ConvergenceWarning: lbfgs failed to converge (status=1):\n",
            "STOP: TOTAL NO. of ITERATIONS REACHED LIMIT.\n",
            "\n",
            "Increase the number of iterations (max_iter) or scale the data as shown in:\n",
            "    https://scikit-learn.org/stable/modules/preprocessing.html\n",
            "Please also refer to the documentation for alternative solver options:\n",
            "    https://scikit-learn.org/stable/modules/linear_model.html#logistic-regression\n",
            "  n_iter_i = _check_optimize_result(\n",
            "/usr/local/lib/python3.11/dist-packages/sklearn/linear_model/_logistic.py:465: ConvergenceWarning: lbfgs failed to converge (status=1):\n",
            "STOP: TOTAL NO. of ITERATIONS REACHED LIMIT.\n",
            "\n",
            "Increase the number of iterations (max_iter) or scale the data as shown in:\n",
            "    https://scikit-learn.org/stable/modules/preprocessing.html\n",
            "Please also refer to the documentation for alternative solver options:\n",
            "    https://scikit-learn.org/stable/modules/linear_model.html#logistic-regression\n",
            "  n_iter_i = _check_optimize_result(\n",
            "/usr/local/lib/python3.11/dist-packages/sklearn/linear_model/_logistic.py:465: ConvergenceWarning: lbfgs failed to converge (status=1):\n",
            "STOP: TOTAL NO. of ITERATIONS REACHED LIMIT.\n",
            "\n",
            "Increase the number of iterations (max_iter) or scale the data as shown in:\n",
            "    https://scikit-learn.org/stable/modules/preprocessing.html\n",
            "Please also refer to the documentation for alternative solver options:\n",
            "    https://scikit-learn.org/stable/modules/linear_model.html#logistic-regression\n",
            "  n_iter_i = _check_optimize_result(\n"
          ]
        },
        {
          "output_type": "stream",
          "name": "stdout",
          "text": [
            "Accuracy of Stacking Model: 0.8084\n",
            "\n",
            "Classification Report:\n",
            "              precision    recall  f1-score   support\n",
            "\n",
            "           0       1.00      1.00      1.00     10014\n",
            "           1       0.55      0.29      0.38     10084\n",
            "           2       1.00      0.99      1.00     10048\n",
            "           3       0.52      0.76      0.61      9987\n",
            "           4       0.99      1.00      1.00      9867\n",
            "\n",
            "    accuracy                           0.81     50000\n",
            "   macro avg       0.81      0.81      0.80     50000\n",
            "weighted avg       0.81      0.81      0.80     50000\n",
            "\n"
          ]
        },
        {
          "output_type": "display_data",
          "data": {
            "text/plain": [
              "<Figure size 640x480 with 2 Axes>"
            ],
            "image/png": "[encoded data removed]"
          },
          "metadata": {}
        }
      ]
    },
    {
      "cell_type": "markdown",
      "source": [
        "####Analysis and Interpretation:\n",
        "Here are some observations from the results:\n",
        "\n",
        "Accuracy: 0.8084 (81% of the predictions were correct).\n",
        "\n",
        "####Classification Report:\n",
        "\n",
        "Class 0 (precision = 1.00, recall = 1.00, f1-score = 1.00): Perfect classification.\n",
        "\n",
        "Class 1 (precision = 0.55, recall = 0.29, f1-score = 0.38): This class is misclassified significantly, especially in recall. The model is having trouble predicting it correctly.\n",
        "\n",
        "Class 2 (precision = 1.00, recall = 0.99, f1-score = 1.00): This class is well-predicted, though there is a slight drop in recall.\n",
        "\n",
        "Class 3 (precision = 0.52, recall = 0.76, f1-score = 0.61): Class 3 is better predicted in terms of recall, but precision is a bit lower.\n",
        "\n",
        "Class 4 (precision = 0.99, recall = 1.00, f1-score = 1.00): This class is also very well-predicted."
      ],
      "metadata": {
        "id": "pAI3sc8NRZfg"
      }
    },
    {
      "cell_type": "markdown",
      "source": [
        "\n",
        "### **KD-TREE:**\n",
        "\n",
        "\n",
        "\n",
        "\n"
      ],
      "metadata": {
        "id": "wVsGwnFsqZeG"
      }
    },
    {
      "cell_type": "code",
      "source": [
        "from sklearn.neighbors import KNeighborsClassifier\n",
        "from sklearn.model_selection import train_test_split\n",
        "from sklearn.preprocessing import StandardScaler\n",
        "from numpy import random\n",
        "import pandas as pd\n",
        "\n",
        "# Load dataset\n",
        "# Load the CSV file\n",
        "df = pd.read_csv('Classification of Robots from their conversation sequence.csv')\n",
        "\n",
        "# Select a subset for faster testing (you can modify this)\n",
        "new_df_subset = df.sample(frac=0.5, random_state=0)\n",
        "\n",
        "# Extract features and target\n",
        "X = new_df_subset.drop(columns='source')\n",
        "y = new_df_subset['source']\n",
        "\n",
        "# Split data\n",
        "X_train, X_test, y_train, y_test = train_test_split(X, y, test_size=0.2, random_state=42)\n",
        "\n",
        "\n",
        "# Scale the data\n",
        "scaler = StandardScaler()\n",
        "X_train_scaled = scaler.fit_transform(X_train)\n",
        "X_test_scaled = scaler.transform(X_test)\n",
        "\n",
        "# Use KNN with KD-Tree\n",
        "knn = KNeighborsClassifier( n_neighbors=5, algorithm='kd_tree')\n",
        "knn.fit(X_train_scaled, y_train)\n",
        "\n",
        "# Make predictions\n",
        "y_pred = knn.predict(X_test_scaled)\n",
        "\n",
        "# Evaluate the model\n",
        "from sklearn.metrics import accuracy_score, classification_report\n",
        "print(\"Accuracy:\", accuracy_score(y_test, y_pred))\n",
        "print(classification_report(y_test, y_pred))\n"
      ],
      "metadata": {
        "colab": {
          "base_uri": "https://localhost:8080/"
        },
        "id": "CS3s6n6kqlF2",
        "outputId": "7fc20711-49f1-4496-fc8d-ca3d49df420c"
      },
      "execution_count": null,
      "outputs": [
        {
          "output_type": "stream",
          "name": "stdout",
          "text": [
            "Accuracy: 0.83174\n",
            "              precision    recall  f1-score   support\n",
            "\n",
            "           0       1.00      1.00      1.00      9986\n",
            "           1       0.64      0.37      0.47      9908\n",
            "           2       1.00      0.99      1.00     10047\n",
            "           3       0.56      0.79      0.66     10065\n",
            "           4       0.99      1.00      1.00      9994\n",
            "\n",
            "    accuracy                           0.83     50000\n",
            "   macro avg       0.84      0.83      0.82     50000\n",
            "weighted avg       0.84      0.83      0.82     50000\n",
            "\n"
          ]
        }
      ]
    },
    {
      "cell_type": "markdown",
      "source": [
        "####Key Metrics for KD-Tree Model:\n",
        "\n",
        "Accuracy: 83.17%\n",
        "\n",
        "Precision, Recall, and F1-Score for each class:\n",
        "\n",
        "Class 0: Perfect performance (Precision, Recall, F1-score all 1.00) with 9986 samples.\n",
        "\n",
        "Class 1: Precision = 0.64, Recall = 0.38, F1-score = 0.47. This class has a lower recall (0.38), meaning it’s being missed in many instances.\n",
        "\n",
        "Class 2: Precision = 1.00, Recall = 0.98, F1-score = 0.99. Very high performance in terms of precision and recall.\n",
        "\n",
        "Class 3: Precision = 0.56, Recall = 0.79, F1-score = 0.66. While recall is high, precision is relatively lower, meaning more false positives in this class.\n",
        "\n",
        "Class 4: Precision = 0.99, Recall = 1.00, F1-score = 1.00. Perfect classification for this class, with all instances correctly classified.\n",
        "\n",
        "####Summary:\n",
        "\n",
        "Class 0 and Class 4 show almost perfect classification with a precision and recall of 1.00, indicating a very clean classification for these classes.\n",
        "\n",
        "Class 2 also shows strong performance but slightly less recall.\n",
        "\n",
        "Class 1 and Class 3 have lower recall and precision, with Class 1 performing particularly poorly in recall. This could indicate an issue with class imbalance or difficulty in distinguishing this class from others."
      ],
      "metadata": {
        "id": "ldxVV74-qZzB"
      }
    },
    {
      "cell_type": "markdown",
      "source": [
        "###**Approximate Nearest Neighbors(ANN):**\n"
      ],
      "metadata": {
        "id": "n6PbHAxSqZa_"
      }
    },
    {
      "cell_type": "code",
      "source": [
        "pip install annoy\n"
      ],
      "metadata": {
        "colab": {
          "base_uri": "https://localhost:8080/"
        },
        "id": "gg4-dLgVtRLR",
        "outputId": "ea27ce39-cffb-4136-d687-07277c88130f"
      },
      "execution_count": null,
      "outputs": [
        {
          "output_type": "stream",
          "name": "stdout",
          "text": [
            "Collecting annoy\n",
            "  Downloading annoy-1.17.3.tar.gz (647 kB)\n",
            "\u001b[2K     \u001b[90m━━━━━━━━━━━━━━━━━━━━━━━━━━━━━━━━━━━━━━━━\u001b[0m \u001b[32m647.5/647.5 kB\u001b[0m \u001b[31m10.1 MB/s\u001b[0m eta \u001b[36m0:00:00\u001b[0m\n",
            "\u001b[?25h  Preparing metadata (setup.py) ... \u001b[?25l\u001b[?25hdone\n",
            "Building wheels for collected packages: annoy\n",
            "  Building wheel for annoy (setup.py) ... \u001b[?25l\u001b[?25hdone\n",
            "  Created wheel for annoy: filename=annoy-1.17.3-cp311-cp311-linux_x86_64.whl size=553317 sha256=36cbdd40a4a6c8f2eed038ab1a43d1e7d8f818f3189039694c2ead0f889e47d0\n",
            "  Stored in directory: /root/.cache/pip/wheels/33/e5/58/0a3e34b92bedf09b4c57e37a63ff395ade6f6c1099ba59877c\n",
            "Successfully built annoy\n",
            "Installing collected packages: annoy\n",
            "Successfully installed annoy-1.17.3\n"
          ]
        }
      ]
    },
    {
      "cell_type": "code",
      "source": [
        "import pandas as pd\n",
        "import numpy as np\n",
        "from sklearn.model_selection import train_test_split\n",
        "from sklearn.preprocessing import MinMaxScaler\n",
        "from sklearn.metrics import accuracy_score, classification_report\n",
        "from annoy import AnnoyIndex\n",
        "\n",
        "# Load dataset\n",
        "df = pd.read_csv('Classification of Robots from their conversation sequence.csv')\n",
        "\n",
        "# Select a subset for faster testing (you can modify this)\n",
        "new_df_subset = df.sample(frac=0.5, random_state=0)\n",
        "\n",
        "# Extract features and target\n",
        "X = new_df_subset.drop(columns='source')\n",
        "y = new_df_subset['source']\n",
        "\n",
        "# Split data\n",
        "X_train, X_test, y_train, y_test = train_test_split(X, y, test_size=0.2, random_state=42)\n",
        "\n",
        "# Scale the data\n",
        "scaler = MinMaxScaler()\n",
        "X_train_scaled = scaler.fit_transform(X_train)\n",
        "X_test_scaled = scaler.transform(X_test)\n",
        "\n",
        "# Create Annoy index (for approximate nearest neighbors search)\n",
        "n_neighbors = 5  # Number of neighbors to find\n",
        "n_features = X_train_scaled.shape[1]  # Number of features\n",
        "\n",
        "# Annoy index for the specified number of features and using Euclidean distance\n",
        "annoy_index = AnnoyIndex(n_features, 'euclidean')\n",
        "\n",
        "# Build the Annoy index by adding training data points\n",
        "for i, vector in enumerate(X_train_scaled):\n",
        "    annoy_index.add_item(i, vector)\n",
        "\n",
        "# Build the index\n",
        "annoy_index.build(10)  # Number of trees in the index (higher = more accurate)\n",
        "\n",
        "# Perform nearest neighbor search for each test sample\n",
        "predictions = []\n",
        "for vector in X_test_scaled:\n",
        "    neighbors = annoy_index.get_nns_by_vector(vector, n_neighbors)  # Get n_neighbors nearest neighbors\n",
        "    neighbor_labels = y_train.iloc[neighbors].values  # Get the labels of the nearest neighbors\n",
        "    predicted_label = np.bincount(neighbor_labels).argmax()  # Predict by majority voting\n",
        "    predictions.append(predicted_label)\n",
        "\n",
        "# Evaluate the model\n",
        "print(\"Accuracy:\", accuracy_score(y_test, predictions))\n",
        "print(classification_report(y_test, predictions))\n",
        "\n"
      ],
      "metadata": {
        "colab": {
          "base_uri": "https://localhost:8080/"
        },
        "id": "p1UI3HKCtH93",
        "outputId": "d10ce743-e82d-4668-89ca-74ca87bb4e90"
      },
      "execution_count": null,
      "outputs": [
        {
          "output_type": "stream",
          "name": "stdout",
          "text": [
            "Accuracy: 0.83224\n",
            "              precision    recall  f1-score   support\n",
            "\n",
            "           0       1.00      1.00      1.00      9986\n",
            "           1       0.64      0.37      0.47      9908\n",
            "           2       1.00      0.98      0.99     10047\n",
            "           3       0.56      0.80      0.66     10065\n",
            "           4       0.99      1.00      1.00      9994\n",
            "\n",
            "    accuracy                           0.83     50000\n",
            "   macro avg       0.84      0.83      0.82     50000\n",
            "weighted avg       0.84      0.83      0.82     50000\n",
            "\n"
          ]
        }
      ]
    },
    {
      "cell_type": "markdown",
      "source": [
        "####ANN Results Summary:\n",
        "Accuracy: 0.83224\n",
        "\n",
        "Precision, Recall, F1-Score: Varying performance across different classes. Class 1 (label 1) has a relatively lower precision and recall, but class 0, 2, 3, and 4 show excellent performance with high precision and recall.\n",
        "\n",
        "####Macro Average:\n",
        " Precision, recall, and F1-score are good but with a slight imbalance due to Class 1.\n",
        "Weighted Average: As expected, this is close to the overall accuracy and balances the performance for imbalanced classes.\n",
        "\n"
      ],
      "metadata": {
        "id": "4HrSeb-lqZTG"
      }
    },
    {
      "cell_type": "markdown",
      "source": [
        "###**ENSEMBLE BETWEEN KD TREE - ANN - RF:**\n"
      ],
      "metadata": {
        "id": "CWcluPt_1C8u"
      }
    },
    {
      "cell_type": "code",
      "source": [
        "import pandas as pd\n",
        "from sklearn.model_selection import train_test_split\n",
        "from sklearn.preprocessing import MinMaxScaler\n",
        "from sklearn.ensemble import RandomForestClassifier, StackingClassifier\n",
        "from sklearn.neighbors import KNeighborsClassifier\n",
        "from sklearn.linear_model import LogisticRegression\n",
        "from sklearn.metrics import accuracy_score, classification_report\n",
        "from sklearn.base import BaseEstimator, ClassifierMixin\n",
        "from annoy import AnnoyIndex\n",
        "import numpy as np\n",
        "\n",
        "# Load dataset\n",
        "df = pd.read_csv('Classification of Robots from their conversation sequence.csv')\n",
        "\n",
        "# Select a subset for faster testing (you can modify this)\n",
        "new_df_subset = df.sample(frac=0.1, random_state=0)\n",
        "\n",
        "# Extract features and target\n",
        "X = new_df_subset.drop(columns='source')\n",
        "y = new_df_subset['source']\n",
        "\n",
        "# Split data\n",
        "X_train, X_test, y_train, y_test = train_test_split(X, y, test_size=0.2, random_state=42)\n",
        "\n",
        "# Scale the data\n",
        "scaler = MinMaxScaler()\n",
        "X_train_scaled = scaler.fit_transform(X_train)\n",
        "X_test_scaled = scaler.transform(X_test)\n",
        "\n",
        "# KNN with KD-Tree (using KNeighborsClassifier)\n",
        "knn = KNeighborsClassifier(n_neighbors=5, algorithm='kd_tree')\n",
        "\n",
        "# Random Forest Classifier\n",
        "rf = RandomForestClassifier(n_estimators=100, max_depth=10, random_state=42)\n",
        "\n",
        "# ANN using Annoy\n",
        "class AnnoyClassifier(BaseEstimator, ClassifierMixin):\n",
        "    def __init__(self, n_neighbors=5, n_trees=10, n_features=10):\n",
        "        self.n_neighbors = n_neighbors\n",
        "        self.n_trees = n_trees\n",
        "        self.n_features = n_features\n",
        "        self.annoy_index = None\n",
        "        self.y_train = None\n",
        "\n",
        "    def fit(self, X, y):\n",
        "        self.y_train = y  # Use y directly since it's already a NumPy array\n",
        "        self.annoy_index = AnnoyIndex(self.n_features, 'angular')\n",
        "\n",
        "        # Build the Annoy index\n",
        "        for i in range(len(X)):\n",
        "            self.annoy_index.add_item(i, X[i])\n",
        "        self.annoy_index.build(self.n_trees)\n",
        "        return self\n",
        "\n",
        "    def predict(self, X):\n",
        "        predictions = []\n",
        "        for i in range(len(X)):\n",
        "            neighbors = self.annoy_index.get_nns_by_vector(X[i], self.n_neighbors)\n",
        "            neighbor_labels = self.y_train[neighbors]  # Access using numpy array indexing\n",
        "            predicted_label = np.bincount(neighbor_labels).argmax()  # Use majority voting\n",
        "            predictions.append(predicted_label)\n",
        "        return np.array(predictions)\n",
        "\n",
        "# Instantiate the models\n",
        "ann = AnnoyClassifier(n_neighbors=5, n_trees=10, n_features=X_train_scaled.shape[1])\n",
        "knn = KNeighborsClassifier(n_neighbors=5, algorithm='kd_tree')\n",
        "rf = RandomForestClassifier(n_estimators=100, max_depth=10, random_state=42)\n",
        "\n",
        "# Stack the models and use Logistic Regression as the final estimator\n",
        "stacking_clf = StackingClassifier(\n",
        "    estimators=[('knn', knn), ('ann', ann), ('rf', rf)],\n",
        "    final_estimator=LogisticRegression()\n",
        ")\n",
        "\n",
        "# Train the Stacking Classifier\n",
        "stacking_clf.fit(X_train_scaled, y_train)\n",
        "\n",
        "# Predict using the ensemble model\n",
        "y_pred = stacking_clf.predict(X_test_scaled)\n",
        "\n",
        "# Evaluate the model\n",
        "print(\"Accuracy of Stacking Model: \", accuracy_score(y_test, y_pred))\n",
        "print(\"Classification Report:\\n\", classification_report(y_test, y_pred))\n"
      ],
      "metadata": {
        "colab": {
          "base_uri": "https://localhost:8080/"
        },
        "id": "9uLjDU791CNC",
        "outputId": "487f9fa8-355c-402d-ac8c-f7d321fbd722"
      },
      "execution_count": null,
      "outputs": [
        {
          "output_type": "stream",
          "name": "stdout",
          "text": [
            "Accuracy of Stacking Model:  0.8079\n",
            "Classification Report:\n",
            "               precision    recall  f1-score   support\n",
            "\n",
            "           0       1.00      1.00      1.00      2047\n",
            "           1       0.53      0.61      0.57      2066\n",
            "           2       1.00      1.00      1.00      1991\n",
            "           3       0.51      0.43      0.46      1946\n",
            "           4       1.00      1.00      1.00      1950\n",
            "\n",
            "    accuracy                           0.81     10000\n",
            "   macro avg       0.81      0.81      0.81     10000\n",
            "weighted avg       0.81      0.81      0.81     10000\n",
            "\n"
          ]
        }
      ]
    },
    {
      "cell_type": "markdown",
      "source": [
        "The results show that your stacking model is performing quite well with an accuracy of 80.79% on the 50% subset of the data. Here’s a breakdown of the results:\n",
        "\n",
        "Class 0: Perfect classification (precision, recall, and f1-score all 1.00)\n",
        "\n",
        "Class 1: Lower performance (precision 0.53, recall 0.61, f1-score 0.57)\n",
        "\n",
        "Class 2: Perfect classification (precision, recall, and f1-score all 1.00)\n",
        "\n",
        "Class 3: Lower performance (precision 0.51, recall 0.43, f1-score 0.46)\n",
        "\n",
        "Class 4: Perfect classification (precision, recall, and f1-score all 1.00)\n",
        "\n",
        "####Observations:\n",
        "\n",
        "Perfect results on classes 0, 2, and 4, which means that the stacking model is able to correctly classify these classes most of the time.\n",
        "\n",
        "Lower performance on class 1 and class 3, which are likely causing the overall model performance to be lower.\n",
        "Specifically:\n",
        "\n",
        "* Class 1 has a precision of 0.53 and recall of 0.61, suggesting the model is not distinguishing class 1 as well as the others.\n",
        "\n",
        "* Class 3 has precision 0.51 and recall 0.43, which means it's harder for the model to classify correctly, potentially due to some overlap with other classes."
      ],
      "metadata": {
        "id": "7J8OBLTR46og"
      }
    },
    {
      "cell_type": "markdown",
      "source": [
        "###**XGBoost:**"
      ],
      "metadata": {
        "id": "lY0sIZ5KHb_z"
      }
    },
    {
      "cell_type": "markdown",
      "metadata": {
        "id": "EQcA-SfFA10u"
      },
      "source": [
        "\n",
        "\n",
        "XGBoost was tried but it is not appeared efficient in improving missclassification\n",
        "The Classification Report:\n",
        "\n",
        "               precision    recall  f1-score   support\n",
        "           0       1.00      1.00      1.00      7944\n",
        "           1       0.51      0.44      0.47      8021\n",
        "           2       1.00      1.00      1.00      8061\n",
        "           3       0.50      0.57      0.54      7982\n",
        "           4       1.00      1.00      1.00      7992\n",
        "           -------------------------------------------\n",
        "    accuracy                           0.80     40000\n",
        "    macro avg      0.80      0.80      0.80     40000\n",
        "    weighted avg   0.80      0.80      0.80     40000\n",
        "           -------------------------------------------\n",
        "    XGBoost Confusion Matrix:\n",
        "    [[7944    0    0    0    0]\n",
        "    [   0 3519    0 4502    0]\n",
        "    [   0    1 8042    0   18]\n",
        "    [   0 3394    0 4588    0]\n",
        "    [   0    0    2    0 7990]]"
      ]
    },
    {
      "cell_type": "markdown",
      "source": [
        "###**SGDClassifier (Mini-Batch):**"
      ],
      "metadata": {
        "id": "H6cRAxokHPPJ"
      }
    },
    {
      "cell_type": "code",
      "execution_count": null,
      "metadata": {
        "colab": {
          "base_uri": "https://localhost:8080/"
        },
        "id": "tbq7h-YYnG5K",
        "outputId": "aca06633-2214-4ad4-c5a3-2b1147bf13c3"
      },
      "outputs": [
        {
          "name": "stdout",
          "output_type": "stream",
          "text": [
            "SGDClassifier (Mini-Batch) Classification Report:\n",
            "              precision    recall  f1-score   support\n",
            "\n",
            "           0       0.50      1.00      0.67      2048\n",
            "           1       0.52      0.58      0.55      2049\n",
            "           2       1.00      0.58      0.73      1988\n",
            "           3       0.00      0.00      0.00      1942\n",
            "           4       0.74      0.93      0.82      1973\n",
            "\n",
            "    accuracy                           0.62     10000\n",
            "   macro avg       0.55      0.62      0.56     10000\n",
            "weighted avg       0.55      0.62      0.56     10000\n",
            "\n"
          ]
        },
        {
          "name": "stderr",
          "output_type": "stream",
          "text": [
            "/usr/local/lib/python3.11/dist-packages/sklearn/metrics/_classification.py:1565: UndefinedMetricWarning: Precision is ill-defined and being set to 0.0 in labels with no predicted samples. Use `zero_division` parameter to control this behavior.\n",
            "  _warn_prf(average, modifier, f\"{metric.capitalize()} is\", len(result))\n",
            "/usr/local/lib/python3.11/dist-packages/sklearn/metrics/_classification.py:1565: UndefinedMetricWarning: Precision is ill-defined and being set to 0.0 in labels with no predicted samples. Use `zero_division` parameter to control this behavior.\n",
            "  _warn_prf(average, modifier, f\"{metric.capitalize()} is\", len(result))\n",
            "/usr/local/lib/python3.11/dist-packages/sklearn/metrics/_classification.py:1565: UndefinedMetricWarning: Precision is ill-defined and being set to 0.0 in labels with no predicted samples. Use `zero_division` parameter to control this behavior.\n",
            "  _warn_prf(average, modifier, f\"{metric.capitalize()} is\", len(result))\n"
          ]
        }
      ],
      "source": [
        "from sklearn.linear_model import SGDClassifier\n",
        "from sklearn.model_selection import train_test_split\n",
        "from sklearn.preprocessing import MinMaxScaler\n",
        "import pandas as pd\n",
        "\n",
        "# Load the CSV file\n",
        "df = pd.read_csv('Classification of Robots from their conversation sequence.csv')\n",
        "\n",
        "# Selecting a subset of the data (use all the data if possible)\n",
        "new_df_subset = df.sample(frac=0.1, random_state=0)\n",
        "\n",
        "# Extract features (X) and target (y)\n",
        "X = new_df_subset.drop(columns='source')  # Features (exclude the target column)\n",
        "y = new_df_subset['source']  # Target (class labels)\n",
        "\n",
        "# Split data into training and testing sets\n",
        "X_train, X_test, y_train, y_test = train_test_split(X, y, test_size=0.2, random_state=0)\n",
        "\n",
        "# Scale the features (important for SGD)\n",
        "\n",
        "# Apply Min-Max Scaling\n",
        "scaler = MinMaxScaler()\n",
        "X_train_scaled = scaler.fit_transform(X_train)\n",
        "X_test_scaled = scaler.transform(X_test)\n",
        "\n",
        "\n",
        "# Create an SGDClassifier model (with 'hinge' loss for Linear SVM)\n",
        "# Use early_stopping to enable mini-batch updates with a maximum number of iterations\n",
        "sgd_model = SGDClassifier(loss='hinge', max_iter=10000, random_state=0, n_jobs=-1, eta0=0.01, learning_rate='adaptive', class_weight='balanced', early_stopping=True, tol=1e-3)\n",
        "\n",
        "# Train the model\n",
        "sgd_model.fit(X_train_scaled, y_train)\n",
        "\n",
        "# Predict on the test set\n",
        "y_pred_sgd = sgd_model.predict(X_test_scaled)\n",
        "\n",
        "# Evaluate the model with a classification report\n",
        "from sklearn.metrics import classification_report\n",
        "print(\"SGDClassifier (Mini-Batch) Classification Report:\")\n",
        "print(classification_report(y_test, y_pred_sgd))\n"
      ]
    },
    {
      "cell_type": "markdown",
      "metadata": {
        "id": "XpayQZEf2S4F"
      },
      "source": [
        "The result of sgd was:\n",
        "SGDClassifier (Mini-Batch) Classification Report:\n",
        "              precision    recall  f1-score   support\n",
        "\n",
        "           0       0.50      1.00      0.67      2048\n",
        "           1       0.52      0.58      0.55      2049\n",
        "           2       1.00      0.58      0.73      1988\n",
        "           3       0.00      0.00      0.00      1942\n",
        "           4       0.74      0.93      0.82      1973\n",
        "\n",
        "    accuracy                           0.62     10000\n",
        "    macro avg       0.55      0.62      0.56     10000\n",
        "    weighted avg       0.55      0.62      0.56     10000\n",
        "\n",
        "which means it needs improvement especially for the 3rd class"
      ]
    },
    {
      "cell_type": "markdown",
      "metadata": {
        "id": "U-fe64mBrw4w"
      },
      "source": [
        "Now we try a nonlinear svm. Non-linear model may offer better accuracy and classification parameter"
      ]
    },
    {
      "cell_type": "markdown",
      "source": [
        "###**SVM (RBF Kernel) :**"
      ],
      "metadata": {
        "id": "bc1pdwWEHlfv"
      }
    },
    {
      "cell_type": "code",
      "execution_count": null,
      "metadata": {
        "colab": {
          "base_uri": "https://localhost:8080/"
        },
        "id": "ed_NpvXlryxs",
        "outputId": "77bfd075-1633-4d0a-db61-e91f52158cc2"
      },
      "outputs": [
        {
          "output_type": "stream",
          "name": "stdout",
          "text": [
            "SVM (RBF Kernel) Classification Report:\n",
            "              precision    recall  f1-score   support\n",
            "\n",
            "           0       0.92      1.00      0.96     10043\n",
            "           1       0.49      0.32      0.39     10009\n",
            "           2       0.92      0.89      0.91      9836\n",
            "           3       0.49      0.65      0.56     10048\n",
            "           4       0.94      0.91      0.93     10064\n",
            "\n",
            "    accuracy                           0.75     50000\n",
            "   macro avg       0.75      0.75      0.75     50000\n",
            "weighted avg       0.75      0.75      0.75     50000\n",
            "\n"
          ]
        }
      ],
      "source": [
        "from sklearn.svm import SVC\n",
        "from sklearn.model_selection import train_test_split\n",
        "from sklearn.preprocessing import MinMaxScaler\n",
        "from sklearn.metrics import classification_report\n",
        "import pandas as pd\n",
        "\n",
        "# Load the CSV file\n",
        "df = pd.read_csv('Classification of Robots from their conversation sequence.csv')\n",
        "\n",
        "# Select a subset for faster testing (you can modify this)\n",
        "new_df_subset = df.sample(frac=0.5, random_state=0)\n",
        "\n",
        "# Extract features and target\n",
        "X = new_df_subset.drop(columns='source')\n",
        "y = new_df_subset['source']\n",
        "\n",
        "# Split data into training and testing sets\n",
        "X_train, X_test, y_train, y_test = train_test_split(X, y, test_size=0.2, random_state=0)\n",
        "\n",
        "# Scale the features (important for SVM)\n",
        "scaler = MinMaxScaler()\n",
        "X_train_scaled = scaler.fit_transform(X_train)\n",
        "X_test_scaled = scaler.transform(X_test)\n",
        "\n",
        "# Create an SVM model with RBF kernel (non-linear)\n",
        "svm_model = SVC(kernel='rbf', random_state=0, class_weight='balanced')\n",
        "\n",
        "# Train the model\n",
        "svm_model.fit(X_train_scaled, y_train)\n",
        "\n",
        "# Predict on the test set\n",
        "y_pred_svm = svm_model.predict(X_test_scaled)\n",
        "\n",
        "# Evaluate the model\n",
        "print(\"SVM (RBF Kernel) Classification Report:\")\n",
        "print(classification_report(y_test, y_pred_svm))\n"
      ]
    },
    {
      "cell_type": "markdown",
      "metadata": {
        "id": "BoulIgrB3Xn6"
      },
      "source": [
        "As it expected nonlinear rbf kernel svm demonstrate much stronger result than linear SGD. We will use Grid search in order to improve hyperparameters and final result"
      ]
    },
    {
      "cell_type": "markdown",
      "source": [
        "####Hyperparmeter- tuning in order to achieve better performance"
      ],
      "metadata": {
        "id": "zLGV4dfmIQOj"
      }
    },
    {
      "cell_type": "code",
      "execution_count": null,
      "metadata": {
        "colab": {
          "base_uri": "https://localhost:8080/"
        },
        "id": "7A5jr3TdrvNb",
        "outputId": "aa3bc370-faa3-4c11-95f4-533a39bc29dc"
      },
      "outputs": [
        {
          "name": "stdout",
          "output_type": "stream",
          "text": [
            "Simple SVM Model Accuracy:  0.7372\n",
            "Fitting 5 folds for each of 1 candidates, totalling 5 fits\n",
            "Best parameters found:  {'C': 1, 'gamma': 'scale', 'kernel': 'rbf'}\n"
          ]
        }
      ],
      "source": [
        "from sklearn.svm import SVC\n",
        "from sklearn.model_selection import GridSearchCV, train_test_split\n",
        "from sklearn.preprocessing import MinMaxScaler\n",
        "import pandas as pd\n",
        "\n",
        "# Load the CSV file\n",
        "df = pd.read_csv('Classification of Robots from their conversation sequence.csv')\n",
        "\n",
        "# Select a subset for faster testing (you can modify this)\n",
        "new_df_subset = df.sample(frac=0.05, random_state=0)\n",
        "\n",
        "# Extract features and target\n",
        "X = new_df_subset.drop(columns='source')\n",
        "y = new_df_subset['source']\n",
        "\n",
        "# Split data into training and testing sets\n",
        "X_train, X_test, y_train, y_test = train_test_split(X, y, test_size=0.2, random_state=0)\n",
        "\n",
        "# Scale the features (important for SVM)\n",
        "scaler = MinMaxScaler()\n",
        "X_train_scaled = scaler.fit_transform(X_train)\n",
        "X_test_scaled = scaler.transform(X_test)\n",
        "\n",
        "# Check if the SVM model works with default parameters\n",
        "svm_model = SVC(kernel='rbf', C=1, gamma='scale', random_state=0, class_weight='balanced')\n",
        "svm_model.fit(X_train_scaled, y_train)\n",
        "print(\"Simple SVM Model Accuracy: \", svm_model.score(X_test_scaled, y_test))\n",
        "\n",
        "# Define a simplified parameter grid\n",
        "param_grid = {\n",
        "    'C': [1],  # Use only one value for C\n",
        "    'gamma': ['scale'],  # Use 'scale' for gamma\n",
        "    'kernel': ['rbf']  # Use only rbf kernel\n",
        "}\n",
        "\n",
        "# Perform GridSearchCV with the simplified grid\n",
        "grid_search = GridSearchCV(svm_model, param_grid, cv=5, scoring='accuracy', n_jobs=-1, verbose=1)\n",
        "\n",
        "# Fit the grid search\n",
        "grid_search.fit(X_train_scaled, y_train)\n",
        "\n",
        "# Best parameters from GridSearchCV\n",
        "print(\"Best parameters found: \", grid_search.best_params_)\n",
        "\n",
        "# Use the best model to predict on the test set\n",
        "best_svm_model = grid_search.best_estimator_\n",
        "y_pred_svm = best_svm_model.predict(X_test_scaled)\n",
        "\n",
        "# Evaluate the model with a classification report\n"
      ]
    },
    {
      "cell_type": "markdown",
      "source": [
        "####Confusion metrix for SVM Model after hyperparameters tuning"
      ],
      "metadata": {
        "id": "1O2syUaBIkFp"
      }
    },
    {
      "cell_type": "code",
      "execution_count": null,
      "metadata": {
        "colab": {
          "base_uri": "https://localhost:8080/"
        },
        "id": "pib8oXBp8_v1",
        "outputId": "9eb9e6b0-2c8d-4c0e-9c89-7264aba80b03"
      },
      "outputs": [
        {
          "name": "stdout",
          "output_type": "stream",
          "text": [
            "SVM (RBF Kernel) Classification Report:\n",
            "              precision    recall  f1-score   support\n",
            "\n",
            "           0       0.90      1.00      0.95      2048\n",
            "           1       0.51      0.96      0.67      2049\n",
            "           2       0.97      0.94      0.95      1988\n",
            "           3       0.00      0.00      0.00      1942\n",
            "           4       0.96      0.96      0.96      1973\n",
            "\n",
            "    accuracy                           0.78     10000\n",
            "   macro avg       0.67      0.77      0.71     10000\n",
            "weighted avg       0.67      0.78      0.71     10000\n",
            "\n"
          ]
        },
        {
          "name": "stderr",
          "output_type": "stream",
          "text": [
            "/usr/local/lib/python3.11/dist-packages/sklearn/metrics/_classification.py:1565: UndefinedMetricWarning: Precision is ill-defined and being set to 0.0 in labels with no predicted samples. Use `zero_division` parameter to control this behavior.\n",
            "  _warn_prf(average, modifier, f\"{metric.capitalize()} is\", len(result))\n",
            "/usr/local/lib/python3.11/dist-packages/sklearn/metrics/_classification.py:1565: UndefinedMetricWarning: Precision is ill-defined and being set to 0.0 in labels with no predicted samples. Use `zero_division` parameter to control this behavior.\n",
            "  _warn_prf(average, modifier, f\"{metric.capitalize()} is\", len(result))\n",
            "/usr/local/lib/python3.11/dist-packages/sklearn/metrics/_classification.py:1565: UndefinedMetricWarning: Precision is ill-defined and being set to 0.0 in labels with no predicted samples. Use `zero_division` parameter to control this behavior.\n",
            "  _warn_prf(average, modifier, f\"{metric.capitalize()} is\", len(result))\n"
          ]
        }
      ],
      "source": [
        "from sklearn.metrics import classification_report\n",
        "\n",
        "print(\"SVM (RBF Kernel) Classification Report:\")\n",
        "print(classification_report(y_test, y_pred_svm))"
      ]
    },
    {
      "cell_type": "code",
      "execution_count": null,
      "metadata": {
        "colab": {
          "base_uri": "https://localhost:8080/",
          "height": 641
        },
        "id": "gkAm2Tc50h2P",
        "outputId": "0f2353d1-037a-48e3-91e9-c1e579671e9b"
      },
      "outputs": [
        {
          "data": {
            "image/png": "[encoded data removed]",
            "text/plain": [
              "<Figure size 1000x700 with 2 Axes>"
            ]
          },
          "metadata": {},
          "output_type": "display_data"
        }
      ],
      "source": [
        "from sklearn.metrics import confusion_matrix\n",
        "import seaborn as sns\n",
        "import matplotlib.pyplot as plt\n",
        "\n",
        "y_pred_svm =svm_model.predict(X_test_scaled)\n",
        "\n",
        "# Compute confusion matrix\n",
        "cm = confusion_matrix(y_test, y_pred_svm)\n",
        "\n",
        "# Plot the confusion matrix using a heatmap\n",
        "plt.figure(figsize=(10,7))\n",
        "sns.heatmap(cm, annot=True, fmt=\"d\", cmap=\"Blues\", xticklabels=y.unique(), yticklabels=y.unique())\n",
        "plt.xlabel('Predicted')\n",
        "plt.ylabel('True')\n",
        "plt.title('Confusion Matrix')\n",
        "plt.show()\n"
      ]
    },
    {
      "cell_type": "markdown",
      "source": [
        "###**Bagging Classifier with SVM base model:**"
      ],
      "metadata": {
        "id": "ZxivpsLpI8V4"
      }
    },
    {
      "cell_type": "code",
      "execution_count": null,
      "metadata": {
        "colab": {
          "base_uri": "https://localhost:8080/"
        },
        "id": "O6xw1QLyUXES",
        "outputId": "ebe128fe-afc9-4e0e-b778-9f95f05b1a67"
      },
      "outputs": [
        {
          "name": "stdout",
          "output_type": "stream",
          "text": [
            "Bagging Classifier with SVM base model Classification Report:\n",
            "              precision    recall  f1-score   support\n",
            "\n",
            "           0       0.80      1.00      0.89       213\n",
            "           1       0.46      0.88      0.61       191\n",
            "           2       1.00      0.60      0.75       184\n",
            "           3       0.00      0.00      0.00       198\n",
            "           4       0.81      0.98      0.89       214\n",
            "\n",
            "    accuracy                           0.70      1000\n",
            "   macro avg       0.62      0.69      0.63      1000\n",
            "weighted avg       0.62      0.70      0.63      1000\n",
            "\n",
            "Bagging Classifier with Random Forest base model Classification Report:\n",
            "              precision    recall  f1-score   support\n",
            "\n",
            "           0       1.00      1.00      1.00       213\n",
            "           1       0.49      0.50      0.49       191\n",
            "           2       0.99      0.98      0.98       184\n",
            "           3       0.50      0.49      0.50       198\n",
            "           4       0.99      0.99      0.99       214\n",
            "\n",
            "    accuracy                           0.80      1000\n",
            "   macro avg       0.79      0.79      0.79      1000\n",
            "weighted avg       0.80      0.80      0.80      1000\n",
            "\n"
          ]
        },
        {
          "name": "stderr",
          "output_type": "stream",
          "text": [
            "/usr/local/lib/python3.11/dist-packages/sklearn/metrics/_classification.py:1565: UndefinedMetricWarning: Precision is ill-defined and being set to 0.0 in labels with no predicted samples. Use `zero_division` parameter to control this behavior.\n",
            "  _warn_prf(average, modifier, f\"{metric.capitalize()} is\", len(result))\n",
            "/usr/local/lib/python3.11/dist-packages/sklearn/metrics/_classification.py:1565: UndefinedMetricWarning: Precision is ill-defined and being set to 0.0 in labels with no predicted samples. Use `zero_division` parameter to control this behavior.\n",
            "  _warn_prf(average, modifier, f\"{metric.capitalize()} is\", len(result))\n",
            "/usr/local/lib/python3.11/dist-packages/sklearn/metrics/_classification.py:1565: UndefinedMetricWarning: Precision is ill-defined and being set to 0.0 in labels with no predicted samples. Use `zero_division` parameter to control this behavior.\n",
            "  _warn_prf(average, modifier, f\"{metric.capitalize()} is\", len(result))\n"
          ]
        }
      ],
      "source": [
        "from sklearn.ensemble import BaggingClassifier, RandomForestClassifier\n",
        "from sklearn.svm import SVC\n",
        "from sklearn.model_selection import train_test_split\n",
        "from sklearn.preprocessing import MinMaxScaler\n",
        "from sklearn.metrics import classification_report\n",
        "import pandas as pd\n",
        "\n",
        "# Load the dataset\n",
        "df = pd.read_csv('Classification of Robots from their conversation sequence.csv')\n",
        "\n",
        "# Select a subset for faster testing (you can modify this)\n",
        "new_df_subset = df.sample(frac=0.01, random_state=0)\n",
        "\n",
        "# Extract features and target\n",
        "X = new_df_subset.drop(columns='source')\n",
        "y = new_df_subset['source']\n",
        "\n",
        "# Split the data into train and test sets\n",
        "X_train, X_test, y_train, y_test = train_test_split(X, y, test_size=0.2, random_state=0)\n",
        "\n",
        "# Scale the features using MinMaxScaler\n",
        "scaler = MinMaxScaler()\n",
        "X_train_scaled = scaler.fit_transform(X_train)\n",
        "X_test_scaled = scaler.transform(X_test)\n",
        "\n",
        "# Define the models\n",
        "class_weights = {0: 5, 4: 5, 1: 1, 2: 1, 3: 1}\n",
        "\n",
        "# SVM Model (linear kernel)\n",
        "svm_model = SVC(kernel='rbf', class_weight=class_weights, probability=True, random_state=0)\n",
        "\n",
        "# Random Forest Model\n",
        "rf_model = RandomForestClassifier(class_weight=class_weights, random_state=0)\n",
        "\n",
        "# Create the Bagging Classifier (using Random Forest or SVM as base models)\n",
        "bagging_svm = BaggingClassifier(SVC(kernel='rbf', class_weight=class_weights), n_estimators=50, random_state=0)\n",
        "bagging_rf = BaggingClassifier(RandomForestClassifier(class_weight=class_weights), n_estimators=50, random_state=0)\n",
        "\n",
        "# Train the ensemble models\n",
        "bagging_svm.fit(X_train_scaled, y_train)\n",
        "bagging_rf.fit(X_train_scaled, y_train)\n",
        "\n",
        "# Predict on the test set\n",
        "y_pred_bagging_svm = bagging_svm.predict(X_test_scaled)\n",
        "y_pred_bagging_rf = bagging_rf.predict(X_test_scaled)\n",
        "\n",
        "# Evaluate the models\n",
        "print(\"Bagging Classifier with SVM base model Classification Report:\")\n",
        "print(classification_report(y_test, y_pred_bagging_svm))\n",
        "\n",
        "print(\"Bagging Classifier with Random Forest base model Classification Report:\")\n",
        "print(classification_report(y_test, y_pred_bagging_rf))\n"
      ]
    },
    {
      "cell_type": "code",
      "execution_count": null,
      "metadata": {
        "colab": {
          "base_uri": "https://localhost:8080/",
          "height": 641
        },
        "id": "WgwHXZpnSWWI",
        "outputId": "5da59fdd-7689-43df-e0fc-d753ac69298e"
      },
      "outputs": [
        {
          "data": {
            "image/png": "[encoded data removed]",
            "text/plain": [
              "<Figure size 1000x700 with 2 Axes>"
            ]
          },
          "metadata": {},
          "output_type": "display_data"
        }
      ],
      "source": [
        "import seaborn as sns\n",
        "import matplotlib.pyplot as plt\n",
        "from sklearn.metrics import confusion_matrix\n",
        "\n",
        "y_pred_bagging_svm = bagging_svm.predict(X_test_scaled)\n",
        "cm = confusion_matrix(y_test, y_pred_bagging_rf)\n",
        "\n",
        "# Plot the confusion matrix using a heatmap\n",
        "plt.figure(figsize=(10,7))\n",
        "sns.heatmap(cm, annot=True, fmt=\"d\", cmap=\"Blues\", xticklabels=y.unique(), yticklabels=y.unique())\n",
        "plt.xlabel('Predicted')\n",
        "plt.ylabel('True')\n",
        "plt.title('Confusion Matrix')\n",
        "plt.show()\n"
      ]
    },
    {
      "cell_type": "markdown",
      "source": [
        "###**CONCLUSION:**"
      ],
      "metadata": {
        "id": "R4irMZmEJOmD"
      }
    },
    {
      "cell_type": "markdown",
      "source": [
        "\n",
        "\n",
        "\n",
        "**Detailed table**\n",
        "\n",
        "| **Model**                                       | **Accuracy** | **Precision (Class 0)** | **Precision (Class 1)** | **Precision (Class 2)** | **Precision (Class 3)** | **Precision (Class 4)** | **Recall (Class 0)** | **Recall (Class 1)** | **Recall (Class 2)** | **Recall (Class 3)** | **Recall (Class 4)** | **F1-Score (Class 0)** | **F1-Score (Class 1)** | **F1-Score (Class 2)** | **F1-Score (Class 3)** | **F1-Score (Class 4)** |\n",
        "|-------------------------------------------------|--------------|-------------------------|-------------------------|-------------------------|-------------------------|-------------------------|----------------------|----------------------|----------------------|----------------------|----------------------|-----------------------|-----------------------|-----------------------|-----------------------|-----------------------|\n",
        "| **1. Random Forest (RF)**                       | 0.90         | 1.00                    | 0.87                    | 1.00                    | 0.69                    | 1.00                    | 1.00                 | 0.59                 | 1.00                 | 0.91                 | 1.00                 | 0.70                  | 1.00                  | 0.78                  | 1.00                  |\n",
        "| **2. Voting Classifier (RF + GNB)**             | 0.84         | 1.00                    | 0.74                    | 1.00                    | 0.74                    | 1.00                    | 1.00                 | 0.71                 | 1.00                 | 0.70                 | 1.00                 | 0.68                  | 1.00                  | 0.81                  | 1.00                  |\n",
        "| **3. Ensemble (RF + SVM)**                      | 0.89         | 1.00                    | 0.86                    | 1.00                    | 0.80                    | 1.00                    | 1.00                 | 0.61                 | 1.00                 | 0.91                 | 1.00                 | 0.72                  | 1.00                  | 0.84                  | 1.00                  |\n",
        "| **4. Stacking (LogReg + RF)**                   | 0.81         | 1.00                    | 0.53                    | 1.00                    | 0.51                    | 1.00                    | 1.00                 | 0.61                 | 1.00                 | 0.43                 | 1.00                 | 0.57                  | 1.00                  | 0.46                  | 1.00                  |\n",
        "| **5. KD-Tree**                                  | 0.83         | 1.00                    | 0.64                    | 1.00                    | 0.56                    | 0.99                    | 1.00                 | 0.38                 | 0.98                 | 0.79                 | 1.00                 | 0.47                  | 1.00                  | 0.66                  | 1.00                  |\n",
        "| **6. ANN (Approximate Nearest Neighbors)**      | 0.83         | 1.00                    | 0.64                    | 1.00                    | 0.56                    | 0.99                    | 1.00                 | 0.37                 | 0.98                 | 0.80                 | 1.00                 | 0.47                  | 1.00                  | 0.66                  | 1.00                  |\n",
        "| **7. XGBoost**                                  | 0.80         | 1.00                    | 0.51                    | 1.00                    | 0.50                    | 1.00                    | 1.00                 | 0.44                 | 1.00                 | 0.57                 | 1.00                 | 0.47                  | 1.00                  | 0.54                  | 1.00                  |\n",
        "| **8. SGDClassifier (Mini-Batch)**               | 0.62         | 0.50                    | 0.52                    | 1.00                    | 0.00                    | 0.74                    | 1.00                 | 0.58                 | 0.58                 | 0.00                 | 0.93                 | 0.67                  | 0.55                  | 0.73                  | 0.00                  |\n",
        "| **9. SVM (RBF Kernel)**                         | 0.78         | 0.90                    | 0.51                    | 0.97                    | 0.00                    | 0.96                    | 1.00                 | 0.96                 | 0.94                 | 0.00                 | 0.96                 | 0.95                  | 0.67                  | 0.95                  | 0.00                  |\n",
        "| **10. Bagging Classifier with SVM base model**  | 0.70         | 0.80                    | 0.46                    | 1.00                    | 0.00                    | 0.81                    | 1.00                 | 0.88                 | 0.60                 | 0.00                 | 0.98                 | 0.89                  | 0.61                  | 0.75                  | 0.00                  |\n",
        "| **11. Bagging Classifier with RF base model**   | 0.80         | 1.00                    | 0.49                    | 0.99                    | 0.50                    | 0.99                    | 1.00                 | 0.50                 | 0.98                 | 0.49                 | 0.99                 | 1.00                  | 0.50                  | 0.99                  | 0.50                  |\n",
        "\n",
        "\n",
        "\n",
        "\n",
        "**Discription table**\n",
        "\n",
        "| **Model**                                          | **Accuracy** | **Precision (Macro Avg)** | **Recall (Macro Avg)** | **F1-Score (Macro Avg)** | **Conclusion**                                                                                                                                                   |\n",
        "|----------------------------------------------------|--------------|---------------------------|-------------------------|--------------------------|------------------------------------------------------------------------------------------------------------------------------------------------------------------|\n",
        "| **Random Forest (RF)**                             | 0.83         | 0.84                      | 0.83                    | 0.82                     | High accuracy, solid performance across all classes.                                                                                                           |\n",
        "| **Voting (RF + Gaussian Naive Bayes)**             | 0.80         | 0.80                      | 0.79                    | 0.79                     | Good accuracy with strong performance in most classes, but less effective on some.                                                                               |\n",
        "| **Ensemble (RF + SVM)**                            | 0.88         | 0.85                      | 0.87                    | 0.86                     | Excellent accuracy, strong performance with a notable improvement over individual models.                                                                     |\n",
        "| **Stacking (LogReg + RF)**                         | 0.81         | 0.79                      | 0.80                    | 0.80                     | Decent accuracy with a solid average precision and recall, but not the top performer in some classes.                                                          |\n",
        "| **KD-Tree**                                        | 0.83         | 0.82                      | 0.82                    | 0.81                     | Good overall accuracy, but some weak areas in precision and recall, especially for classes with fewer instances.                                               |\n",
        "| **ANN (Approximate Nearest Neighbors)**            | 0.83         | 0.82                      | 0.81                    | 0.81                     | Similar performance to KD-Tree, with good accuracy but room for improvement in precision and recall.                                                           |\n",
        "| **XGBoost**                                        | 0.80         | 0.79                      | 0.80                    | 0.79                     | High accuracy, especially with class 0, but struggles with lower-precision classes.                                                                            |\n",
        "| **SGDClassifier (Mini-Batch)**                     | 0.62         | 0.55                      | 0.62                    | 0.56                     | Struggles overall, especially with class 3, but performs decently in precision for some classes.                                                              |\n",
        "| **SVM (RBF Kernel)**                               | 0.78         | 0.67                      | 0.77                    | 0.71                     | Performs very well with certain classes (class 0 and 4), but poor recall and precision for class 3.                                                            |\n",
        "| **Bagging Classifier with SVM base model**         | 0.70         | 0.62                      | 0.69                    | 0.63                     | Struggles with class imbalance, but performs decently for some classes.                                                                                    |\n",
        "| **Bagging Classifier with Random Forest base model** | 0.80       | 0.79                      | 0.79                    | 0.79                     | Better performance than SVM-based bagging, especially in class 0 and class 4.                                                                                  |\n",
        "\n",
        "\n",
        "\n",
        "#####**Top Performers:**\n",
        "\n",
        "Random Forest (RF) and KD Tree provide the highest accuracy (~0.83), with balanced performance across all classes. Both models have a high precision and recall, making them great for this classification task.\n",
        "\n",
        "ANN (Approximate Nearest Neighbors) also provides similar results to RF and KD Tree, performing well, especially for recall. However, its performance in comparison with RF is not significantly superior.\n",
        "\n",
        "#####**Ensemble Methods:**\n",
        "\n",
        "Voting (RF + Gaussian Naive Bayes) and Ensemble (RF + SVM) offer solid results, with accuracy around 0.80-0.81, but these models do not outperform RF and KD Tree.\n",
        "\n",
        "Stacking (LogReg + RF) also delivers similar accuracy but slightly higher stability in certain scenarios.\n",
        "Ensemble (ANN + KD Tree + RF) did not outperform individual models and could be considered slightly redundant.\n",
        "\n",
        "#####**Other Models:**\n",
        "\n",
        "XGBoost delivers solid results at 0.80 accuracy, which is slightly lower than RF and KD Tree but remains competitive.\n",
        "\n",
        "SGDClassifier (Mini-Batch) struggles, achieving only 0.62 accuracy, making it a poor performer for this task.\n",
        "\n",
        "SVM (RBF Kernel) shows solid performance for class 0 and class 4, but struggles with class 3 and class 1, achieving 0.78 accuracy.\n",
        "\n",
        "Bagging with SVM provides lower accuracy and worse recall for certain classes, making it less effective.\n",
        "\n",
        "Bagging with Random Forest is a more balanced approach and performs better than the SVM-based bagging.\n",
        "\n",
        "#####**Final Recommendation:**\n",
        "\n",
        "Random Forest (RF) is the most reliable model for this dataset, providing both high accuracy and good precision/recall across classes. If time allows, KD Tree and ANN are also great alternatives, offering similar performance.\n",
        "\n",
        "If you're aiming for a more ensemble-based approach, Stacking (LogReg + RF) or Ensemble (RF + SVM) are solid choices, though they might not offer the same accuracy as RF alone.\n",
        "\n",
        "SGDClassifier (Mini-Batch) and Bagging Classifiers should be avoided as they do not perform well across the dataset."
      ],
      "metadata": {
        "id": "iUuLk98HC1oa"
      }
    }
  ],
  "metadata": {
    "colab": {
      "gpuType": "T4",
      "provenance": [],
      "collapsed_sections": [
        "EQCbvkqqEnfV",
        "bUr2AnDtE3-8",
        "lW6Mmgmnm58m",
        "poxvGlWzoFLk",
        "BB9EAnvR0_op",
        "wVsGwnFsqZeG",
        "n6PbHAxSqZa_",
        "CWcluPt_1C8u",
        "lY0sIZ5KHb_z",
        "H6cRAxokHPPJ",
        "bc1pdwWEHlfv",
        "ZxivpsLpI8V4"
      ]
    },
    "kernelspec": {
      "display_name": "Python 3",
      "name": "python3"
    },
    "language_info": {
      "name": "python"
    }
  },
  "nbformat": 4,
  "nbformat_minor": 0
}